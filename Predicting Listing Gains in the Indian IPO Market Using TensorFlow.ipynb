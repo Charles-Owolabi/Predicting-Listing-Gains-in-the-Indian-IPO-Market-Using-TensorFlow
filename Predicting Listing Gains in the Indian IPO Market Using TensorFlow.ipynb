{
 "cells": [
  {
   "cell_type": "markdown",
   "id": "931357e1-c805-4bb5-b0ab-061723046d4f",
   "metadata": {},
   "source": [
    "#### Introduction\n",
    "In this project I worked on the Initial Public Offerings (IPO) in the Indian market. I build a deep learning classification model to determine if there will be listing gains for the IPO. Listing gains are the percentage increase in the share price of a company from its IPO issue price on the day of listing.\n",
    "\n",
    "The dataset for this project contains information on past IPOs in the Indian market and comes from [moneycontrol](https://www.moneycontrol.com/ipo/ipo-historic-table?classic=true).\n",
    "\n",
    "#### Data Dictionary\r\n",
    "The data consists of following column\r\n",
    "\r\n",
    "Date: date when the IPO was lised\r\n",
    "\r\n",
    "IPOName: name of the IPO\r\n",
    "\r\n",
    "Issue_Size: size of the IPO issue, in INR Crores\r\n",
    "\r\n",
    "Subscription_QIB: number of times the IPO was subscribed by the QIB (Qualified Institutional Buyer) investor category\r\n",
    "\r\n",
    "Subscription_HNI: number of times the IPO was subscribed by the HNI (High Networth Individual) investor category\r\n",
    "\r\n",
    "Subscription_RII: number of times the IPO was subscribed by the RII (Retail Individual Investors) investor category\r\n",
    "\r\n",
    "Subscription_Total: total number of times the IPO was subs\n",
    "cribed overall\r\n",
    "\r\n",
    "Issue_Price: the price in INR at which the IPO was issued\r\n",
    "\r\n",
    "Listing_Gains_Percent: is the percentage gain in the listing price over the issue price\r\n"
   ]
  },
  {
   "cell_type": "markdown",
   "id": "2c0856a4-a067-42f1-8401-c6546e1193ba",
   "metadata": {},
   "source": [
    "## Data Investigation"
   ]
  },
  {
   "cell_type": "code",
   "execution_count": 1,
   "id": "71023b84-182a-426a-9cb3-b6eca6d55dc0",
   "metadata": {},
   "outputs": [
    {
     "name": "stdout",
     "output_type": "stream",
     "text": [
      "All libraries imported successfully!\n"
     ]
    }
   ],
   "source": [
    "import numpy as np \n",
    "import pandas as pd \n",
    "import seaborn as sns\n",
    "import matplotlib.pyplot as plt\n",
    "\n",
    "import tensorflow as tf\n",
    "from tensorflow import keras\n",
    "from tensorflow.keras import layers\n",
    "from sklearn.model_selection import train_test_split\n",
    "\n",
    "from sklearn.metrics import mean_squared_error\n",
    "from math import sqrt\n",
    "\n",
    "print(\"All libraries imported successfully!\")\n"
   ]
  },
  {
   "cell_type": "code",
   "execution_count": 2,
   "id": "82a2dea7-6a98-4628-af26-93c1b3f780c0",
   "metadata": {},
   "outputs": [
    {
     "data": {
      "text/html": [
       "<div>\n",
       "<style scoped>\n",
       "    .dataframe tbody tr th:only-of-type {\n",
       "        vertical-align: middle;\n",
       "    }\n",
       "\n",
       "    .dataframe tbody tr th {\n",
       "        vertical-align: top;\n",
       "    }\n",
       "\n",
       "    .dataframe thead th {\n",
       "        text-align: right;\n",
       "    }\n",
       "</style>\n",
       "<table border=\"1\" class=\"dataframe\">\n",
       "  <thead>\n",
       "    <tr style=\"text-align: right;\">\n",
       "      <th></th>\n",
       "      <th>Date</th>\n",
       "      <th>IPOName</th>\n",
       "      <th>Issue_Size</th>\n",
       "      <th>Subscription_QIB</th>\n",
       "      <th>Subscription_HNI</th>\n",
       "      <th>Subscription_RII</th>\n",
       "      <th>Subscription_Total</th>\n",
       "      <th>Issue_Price</th>\n",
       "      <th>Listing_Gains_Percent</th>\n",
       "    </tr>\n",
       "  </thead>\n",
       "  <tbody>\n",
       "    <tr>\n",
       "      <th>0</th>\n",
       "      <td>03/02/10</td>\n",
       "      <td>Infinite Comp</td>\n",
       "      <td>189.80</td>\n",
       "      <td>48.44</td>\n",
       "      <td>106.02</td>\n",
       "      <td>11.08</td>\n",
       "      <td>43.22</td>\n",
       "      <td>165</td>\n",
       "      <td>11.82</td>\n",
       "    </tr>\n",
       "    <tr>\n",
       "      <th>1</th>\n",
       "      <td>08/02/10</td>\n",
       "      <td>Jubilant Food</td>\n",
       "      <td>328.70</td>\n",
       "      <td>59.39</td>\n",
       "      <td>51.95</td>\n",
       "      <td>3.79</td>\n",
       "      <td>31.11</td>\n",
       "      <td>145</td>\n",
       "      <td>-84.21</td>\n",
       "    </tr>\n",
       "    <tr>\n",
       "      <th>2</th>\n",
       "      <td>15/02/10</td>\n",
       "      <td>Syncom Health</td>\n",
       "      <td>56.25</td>\n",
       "      <td>0.99</td>\n",
       "      <td>16.60</td>\n",
       "      <td>6.25</td>\n",
       "      <td>5.17</td>\n",
       "      <td>75</td>\n",
       "      <td>17.13</td>\n",
       "    </tr>\n",
       "    <tr>\n",
       "      <th>3</th>\n",
       "      <td>15/02/10</td>\n",
       "      <td>Vascon Engineer</td>\n",
       "      <td>199.80</td>\n",
       "      <td>1.12</td>\n",
       "      <td>3.65</td>\n",
       "      <td>0.62</td>\n",
       "      <td>1.22</td>\n",
       "      <td>165</td>\n",
       "      <td>-11.28</td>\n",
       "    </tr>\n",
       "    <tr>\n",
       "      <th>4</th>\n",
       "      <td>19/02/10</td>\n",
       "      <td>Thangamayil</td>\n",
       "      <td>0.00</td>\n",
       "      <td>0.52</td>\n",
       "      <td>1.52</td>\n",
       "      <td>2.26</td>\n",
       "      <td>1.12</td>\n",
       "      <td>75</td>\n",
       "      <td>-5.20</td>\n",
       "    </tr>\n",
       "    <tr>\n",
       "      <th>...</th>\n",
       "      <td>...</td>\n",
       "      <td>...</td>\n",
       "      <td>...</td>\n",
       "      <td>...</td>\n",
       "      <td>...</td>\n",
       "      <td>...</td>\n",
       "      <td>...</td>\n",
       "      <td>...</td>\n",
       "      <td>...</td>\n",
       "    </tr>\n",
       "    <tr>\n",
       "      <th>314</th>\n",
       "      <td>26/08/22</td>\n",
       "      <td>Syrma SGS</td>\n",
       "      <td>840.13</td>\n",
       "      <td>42.42</td>\n",
       "      <td>7.13</td>\n",
       "      <td>2.84</td>\n",
       "      <td>15.59</td>\n",
       "      <td>220</td>\n",
       "      <td>42.30</td>\n",
       "    </tr>\n",
       "    <tr>\n",
       "      <th>315</th>\n",
       "      <td>06/09/22</td>\n",
       "      <td>Dreamfolks Serv</td>\n",
       "      <td>562.10</td>\n",
       "      <td>27.48</td>\n",
       "      <td>14.18</td>\n",
       "      <td>24.19</td>\n",
       "      <td>23.25</td>\n",
       "      <td>326</td>\n",
       "      <td>41.92</td>\n",
       "    </tr>\n",
       "    <tr>\n",
       "      <th>316</th>\n",
       "      <td>15/09/22</td>\n",
       "      <td>TMB</td>\n",
       "      <td>792.00</td>\n",
       "      <td>0.51</td>\n",
       "      <td>1.77</td>\n",
       "      <td>3.44</td>\n",
       "      <td>1.39</td>\n",
       "      <td>525</td>\n",
       "      <td>-3.15</td>\n",
       "    </tr>\n",
       "    <tr>\n",
       "      <th>317</th>\n",
       "      <td>26/09/22</td>\n",
       "      <td>Harsha Engineer</td>\n",
       "      <td>755.00</td>\n",
       "      <td>113.82</td>\n",
       "      <td>40.36</td>\n",
       "      <td>12.44</td>\n",
       "      <td>47.19</td>\n",
       "      <td>330</td>\n",
       "      <td>47.24</td>\n",
       "    </tr>\n",
       "    <tr>\n",
       "      <th>318</th>\n",
       "      <td>17/10/22</td>\n",
       "      <td>Electronics Mar</td>\n",
       "      <td>500.00</td>\n",
       "      <td>58.81</td>\n",
       "      <td>15.39</td>\n",
       "      <td>8.27</td>\n",
       "      <td>24.23</td>\n",
       "      <td>59</td>\n",
       "      <td>43.14</td>\n",
       "    </tr>\n",
       "  </tbody>\n",
       "</table>\n",
       "<p>319 rows × 9 columns</p>\n",
       "</div>"
      ],
      "text/plain": [
       "        Date           IPOName  Issue_Size  Subscription_QIB  \\\n",
       "0    03/02/10    Infinite Comp      189.80             48.44   \n",
       "1    08/02/10    Jubilant Food      328.70             59.39   \n",
       "2    15/02/10    Syncom Health       56.25              0.99   \n",
       "3    15/02/10  Vascon Engineer      199.80              1.12   \n",
       "4    19/02/10      Thangamayil        0.00              0.52   \n",
       "..        ...              ...         ...               ...   \n",
       "314  26/08/22        Syrma SGS      840.13             42.42   \n",
       "315  06/09/22  Dreamfolks Serv      562.10             27.48   \n",
       "316  15/09/22              TMB      792.00              0.51   \n",
       "317  26/09/22  Harsha Engineer      755.00            113.82   \n",
       "318  17/10/22  Electronics Mar      500.00             58.81   \n",
       "\n",
       "     Subscription_HNI  Subscription_RII  Subscription_Total  Issue_Price  \\\n",
       "0              106.02             11.08               43.22          165   \n",
       "1               51.95              3.79               31.11          145   \n",
       "2               16.60              6.25                5.17           75   \n",
       "3                3.65              0.62                1.22          165   \n",
       "4                1.52              2.26                1.12           75   \n",
       "..                ...               ...                 ...          ...   \n",
       "314              7.13              2.84               15.59          220   \n",
       "315             14.18             24.19               23.25          326   \n",
       "316              1.77              3.44                1.39          525   \n",
       "317             40.36             12.44               47.19          330   \n",
       "318             15.39              8.27               24.23           59   \n",
       "\n",
       "     Listing_Gains_Percent  \n",
       "0                    11.82  \n",
       "1                   -84.21  \n",
       "2                    17.13  \n",
       "3                   -11.28  \n",
       "4                    -5.20  \n",
       "..                     ...  \n",
       "314                  42.30  \n",
       "315                  41.92  \n",
       "316                  -3.15  \n",
       "317                  47.24  \n",
       "318                  43.14  \n",
       "\n",
       "[319 rows x 9 columns]"
      ]
     },
     "execution_count": 2,
     "metadata": {},
     "output_type": "execute_result"
    }
   ],
   "source": [
    "market_df = pd.read_csv(\"C:/Users/Administrator/Documents/Tensor Flow Guided Project/Indian_IPO_Market_Data.csv\")\n",
    "market_df"
   ]
  },
  {
   "cell_type": "code",
   "execution_count": 3,
   "id": "4b4f191e-9755-49c3-86fb-2cef5871e0e5",
   "metadata": {},
   "outputs": [
    {
     "data": {
      "text/html": [
       "<div>\n",
       "<style scoped>\n",
       "    .dataframe tbody tr th:only-of-type {\n",
       "        vertical-align: middle;\n",
       "    }\n",
       "\n",
       "    .dataframe tbody tr th {\n",
       "        vertical-align: top;\n",
       "    }\n",
       "\n",
       "    .dataframe thead th {\n",
       "        text-align: right;\n",
       "    }\n",
       "</style>\n",
       "<table border=\"1\" class=\"dataframe\">\n",
       "  <thead>\n",
       "    <tr style=\"text-align: right;\">\n",
       "      <th></th>\n",
       "      <th>Date</th>\n",
       "      <th>IPOName</th>\n",
       "      <th>Issue_Size</th>\n",
       "      <th>Subscription_QIB</th>\n",
       "      <th>Subscription_HNI</th>\n",
       "      <th>Subscription_RII</th>\n",
       "      <th>Subscription_Total</th>\n",
       "      <th>Issue_Price</th>\n",
       "      <th>Listing_Gains_Percent</th>\n",
       "    </tr>\n",
       "  </thead>\n",
       "  <tbody>\n",
       "    <tr>\n",
       "      <th>0</th>\n",
       "      <td>03/02/10</td>\n",
       "      <td>Infinite Comp</td>\n",
       "      <td>189.80</td>\n",
       "      <td>48.44</td>\n",
       "      <td>106.02</td>\n",
       "      <td>11.08</td>\n",
       "      <td>43.22</td>\n",
       "      <td>165</td>\n",
       "      <td>11.82</td>\n",
       "    </tr>\n",
       "    <tr>\n",
       "      <th>1</th>\n",
       "      <td>08/02/10</td>\n",
       "      <td>Jubilant Food</td>\n",
       "      <td>328.70</td>\n",
       "      <td>59.39</td>\n",
       "      <td>51.95</td>\n",
       "      <td>3.79</td>\n",
       "      <td>31.11</td>\n",
       "      <td>145</td>\n",
       "      <td>-84.21</td>\n",
       "    </tr>\n",
       "    <tr>\n",
       "      <th>2</th>\n",
       "      <td>15/02/10</td>\n",
       "      <td>Syncom Health</td>\n",
       "      <td>56.25</td>\n",
       "      <td>0.99</td>\n",
       "      <td>16.60</td>\n",
       "      <td>6.25</td>\n",
       "      <td>5.17</td>\n",
       "      <td>75</td>\n",
       "      <td>17.13</td>\n",
       "    </tr>\n",
       "    <tr>\n",
       "      <th>3</th>\n",
       "      <td>15/02/10</td>\n",
       "      <td>Vascon Engineer</td>\n",
       "      <td>199.80</td>\n",
       "      <td>1.12</td>\n",
       "      <td>3.65</td>\n",
       "      <td>0.62</td>\n",
       "      <td>1.22</td>\n",
       "      <td>165</td>\n",
       "      <td>-11.28</td>\n",
       "    </tr>\n",
       "    <tr>\n",
       "      <th>4</th>\n",
       "      <td>19/02/10</td>\n",
       "      <td>Thangamayil</td>\n",
       "      <td>0.00</td>\n",
       "      <td>0.52</td>\n",
       "      <td>1.52</td>\n",
       "      <td>2.26</td>\n",
       "      <td>1.12</td>\n",
       "      <td>75</td>\n",
       "      <td>-5.20</td>\n",
       "    </tr>\n",
       "  </tbody>\n",
       "</table>\n",
       "</div>"
      ],
      "text/plain": [
       "      Date           IPOName  Issue_Size  Subscription_QIB  Subscription_HNI  \\\n",
       "0  03/02/10    Infinite Comp      189.80             48.44            106.02   \n",
       "1  08/02/10    Jubilant Food      328.70             59.39             51.95   \n",
       "2  15/02/10    Syncom Health       56.25              0.99             16.60   \n",
       "3  15/02/10  Vascon Engineer      199.80              1.12              3.65   \n",
       "4  19/02/10      Thangamayil        0.00              0.52              1.52   \n",
       "\n",
       "   Subscription_RII  Subscription_Total  Issue_Price  Listing_Gains_Percent  \n",
       "0             11.08               43.22          165                  11.82  \n",
       "1              3.79               31.11          145                 -84.21  \n",
       "2              6.25                5.17           75                  17.13  \n",
       "3              0.62                1.22          165                 -11.28  \n",
       "4              2.26                1.12           75                  -5.20  "
      ]
     },
     "execution_count": 3,
     "metadata": {},
     "output_type": "execute_result"
    }
   ],
   "source": [
    "# first five rows of the dataset\n",
    "market_df.head(5)"
   ]
  },
  {
   "cell_type": "code",
   "execution_count": 4,
   "id": "555f7169-2950-46e0-84d5-337202a6ef52",
   "metadata": {},
   "outputs": [
    {
     "data": {
      "text/html": [
       "<div>\n",
       "<style scoped>\n",
       "    .dataframe tbody tr th:only-of-type {\n",
       "        vertical-align: middle;\n",
       "    }\n",
       "\n",
       "    .dataframe tbody tr th {\n",
       "        vertical-align: top;\n",
       "    }\n",
       "\n",
       "    .dataframe thead th {\n",
       "        text-align: right;\n",
       "    }\n",
       "</style>\n",
       "<table border=\"1\" class=\"dataframe\">\n",
       "  <thead>\n",
       "    <tr style=\"text-align: right;\">\n",
       "      <th></th>\n",
       "      <th>Date</th>\n",
       "      <th>IPOName</th>\n",
       "      <th>Issue_Size</th>\n",
       "      <th>Subscription_QIB</th>\n",
       "      <th>Subscription_HNI</th>\n",
       "      <th>Subscription_RII</th>\n",
       "      <th>Subscription_Total</th>\n",
       "      <th>Issue_Price</th>\n",
       "      <th>Listing_Gains_Percent</th>\n",
       "    </tr>\n",
       "  </thead>\n",
       "  <tbody>\n",
       "    <tr>\n",
       "      <th>314</th>\n",
       "      <td>26/08/22</td>\n",
       "      <td>Syrma SGS</td>\n",
       "      <td>840.13</td>\n",
       "      <td>42.42</td>\n",
       "      <td>7.13</td>\n",
       "      <td>2.84</td>\n",
       "      <td>15.59</td>\n",
       "      <td>220</td>\n",
       "      <td>42.30</td>\n",
       "    </tr>\n",
       "    <tr>\n",
       "      <th>315</th>\n",
       "      <td>06/09/22</td>\n",
       "      <td>Dreamfolks Serv</td>\n",
       "      <td>562.10</td>\n",
       "      <td>27.48</td>\n",
       "      <td>14.18</td>\n",
       "      <td>24.19</td>\n",
       "      <td>23.25</td>\n",
       "      <td>326</td>\n",
       "      <td>41.92</td>\n",
       "    </tr>\n",
       "    <tr>\n",
       "      <th>316</th>\n",
       "      <td>15/09/22</td>\n",
       "      <td>TMB</td>\n",
       "      <td>792.00</td>\n",
       "      <td>0.51</td>\n",
       "      <td>1.77</td>\n",
       "      <td>3.44</td>\n",
       "      <td>1.39</td>\n",
       "      <td>525</td>\n",
       "      <td>-3.15</td>\n",
       "    </tr>\n",
       "    <tr>\n",
       "      <th>317</th>\n",
       "      <td>26/09/22</td>\n",
       "      <td>Harsha Engineer</td>\n",
       "      <td>755.00</td>\n",
       "      <td>113.82</td>\n",
       "      <td>40.36</td>\n",
       "      <td>12.44</td>\n",
       "      <td>47.19</td>\n",
       "      <td>330</td>\n",
       "      <td>47.24</td>\n",
       "    </tr>\n",
       "    <tr>\n",
       "      <th>318</th>\n",
       "      <td>17/10/22</td>\n",
       "      <td>Electronics Mar</td>\n",
       "      <td>500.00</td>\n",
       "      <td>58.81</td>\n",
       "      <td>15.39</td>\n",
       "      <td>8.27</td>\n",
       "      <td>24.23</td>\n",
       "      <td>59</td>\n",
       "      <td>43.14</td>\n",
       "    </tr>\n",
       "  </tbody>\n",
       "</table>\n",
       "</div>"
      ],
      "text/plain": [
       "        Date           IPOName  Issue_Size  Subscription_QIB  \\\n",
       "314  26/08/22        Syrma SGS      840.13             42.42   \n",
       "315  06/09/22  Dreamfolks Serv      562.10             27.48   \n",
       "316  15/09/22              TMB      792.00              0.51   \n",
       "317  26/09/22  Harsha Engineer      755.00            113.82   \n",
       "318  17/10/22  Electronics Mar      500.00             58.81   \n",
       "\n",
       "     Subscription_HNI  Subscription_RII  Subscription_Total  Issue_Price  \\\n",
       "314              7.13              2.84               15.59          220   \n",
       "315             14.18             24.19               23.25          326   \n",
       "316              1.77              3.44                1.39          525   \n",
       "317             40.36             12.44               47.19          330   \n",
       "318             15.39              8.27               24.23           59   \n",
       "\n",
       "     Listing_Gains_Percent  \n",
       "314                  42.30  \n",
       "315                  41.92  \n",
       "316                  -3.15  \n",
       "317                  47.24  \n",
       "318                  43.14  "
      ]
     },
     "execution_count": 4,
     "metadata": {},
     "output_type": "execute_result"
    }
   ],
   "source": [
    "# last five rows of the dataset\n",
    "market_df.tail(5)"
   ]
  },
  {
   "cell_type": "code",
   "execution_count": 5,
   "id": "8e21b937-c959-4a56-a9c4-fffc227bd1b2",
   "metadata": {},
   "outputs": [
    {
     "data": {
      "text/plain": [
       "Index(['Date ', 'IPOName', 'Issue_Size', 'Subscription_QIB',\n",
       "       'Subscription_HNI', 'Subscription_RII', 'Subscription_Total',\n",
       "       'Issue_Price', 'Listing_Gains_Percent'],\n",
       "      dtype='object')"
      ]
     },
     "execution_count": 5,
     "metadata": {},
     "output_type": "execute_result"
    }
   ],
   "source": [
    "# information about the columns in the dataset\n",
    "market_df.columns"
   ]
  },
  {
   "cell_type": "code",
   "execution_count": 6,
   "id": "25b5276d-6653-4454-ba81-2e4f81250094",
   "metadata": {},
   "outputs": [
    {
     "data": {
      "text/plain": [
       "count    319.000000\n",
       "mean       4.742696\n",
       "std       47.650946\n",
       "min      -97.150000\n",
       "25%      -11.555000\n",
       "50%        1.810000\n",
       "75%       25.310000\n",
       "max      270.400000\n",
       "Name: Listing_Gains_Percent, dtype: float64"
      ]
     },
     "execution_count": 6,
     "metadata": {},
     "output_type": "execute_result"
    }
   ],
   "source": [
    "#summary statistics for the Listing_Gains_Percent variable in the dataset\n",
    "gains_stat = market_df[\"Listing_Gains_Percent\"].describe()\n",
    "gains_stat"
   ]
  },
  {
   "cell_type": "code",
   "execution_count": 7,
   "id": "f458e73d-d009-40c8-9368-ee2bd63af4c4",
   "metadata": {},
   "outputs": [
    {
     "data": {
      "text/html": [
       "<div>\n",
       "<style scoped>\n",
       "    .dataframe tbody tr th:only-of-type {\n",
       "        vertical-align: middle;\n",
       "    }\n",
       "\n",
       "    .dataframe tbody tr th {\n",
       "        vertical-align: top;\n",
       "    }\n",
       "\n",
       "    .dataframe thead th {\n",
       "        text-align: right;\n",
       "    }\n",
       "</style>\n",
       "<table border=\"1\" class=\"dataframe\">\n",
       "  <thead>\n",
       "    <tr style=\"text-align: right;\">\n",
       "      <th></th>\n",
       "      <th>Issue_Size</th>\n",
       "      <th>Subscription_QIB</th>\n",
       "      <th>Subscription_HNI</th>\n",
       "      <th>Subscription_RII</th>\n",
       "      <th>Subscription_Total</th>\n",
       "      <th>Issue_Price</th>\n",
       "      <th>Listing_Gains_Percent</th>\n",
       "    </tr>\n",
       "  </thead>\n",
       "  <tbody>\n",
       "    <tr>\n",
       "      <th>count</th>\n",
       "      <td>319.000000</td>\n",
       "      <td>319.000000</td>\n",
       "      <td>319.000000</td>\n",
       "      <td>319.000000</td>\n",
       "      <td>319.000000</td>\n",
       "      <td>319.000000</td>\n",
       "      <td>319.000000</td>\n",
       "    </tr>\n",
       "    <tr>\n",
       "      <th>mean</th>\n",
       "      <td>1192.859969</td>\n",
       "      <td>25.684138</td>\n",
       "      <td>70.091379</td>\n",
       "      <td>8.561599</td>\n",
       "      <td>27.447147</td>\n",
       "      <td>375.128527</td>\n",
       "      <td>4.742696</td>\n",
       "    </tr>\n",
       "    <tr>\n",
       "      <th>std</th>\n",
       "      <td>2384.643786</td>\n",
       "      <td>40.716782</td>\n",
       "      <td>142.454416</td>\n",
       "      <td>14.508670</td>\n",
       "      <td>48.772203</td>\n",
       "      <td>353.897614</td>\n",
       "      <td>47.650946</td>\n",
       "    </tr>\n",
       "    <tr>\n",
       "      <th>min</th>\n",
       "      <td>0.000000</td>\n",
       "      <td>0.000000</td>\n",
       "      <td>0.000000</td>\n",
       "      <td>0.000000</td>\n",
       "      <td>0.000000</td>\n",
       "      <td>0.000000</td>\n",
       "      <td>-97.150000</td>\n",
       "    </tr>\n",
       "    <tr>\n",
       "      <th>25%</th>\n",
       "      <td>169.005000</td>\n",
       "      <td>1.150000</td>\n",
       "      <td>1.255000</td>\n",
       "      <td>1.275000</td>\n",
       "      <td>1.645000</td>\n",
       "      <td>119.000000</td>\n",
       "      <td>-11.555000</td>\n",
       "    </tr>\n",
       "    <tr>\n",
       "      <th>50%</th>\n",
       "      <td>496.250000</td>\n",
       "      <td>4.940000</td>\n",
       "      <td>5.070000</td>\n",
       "      <td>3.420000</td>\n",
       "      <td>4.930000</td>\n",
       "      <td>250.000000</td>\n",
       "      <td>1.810000</td>\n",
       "    </tr>\n",
       "    <tr>\n",
       "      <th>75%</th>\n",
       "      <td>1100.000000</td>\n",
       "      <td>34.635000</td>\n",
       "      <td>62.095000</td>\n",
       "      <td>8.605000</td>\n",
       "      <td>33.395000</td>\n",
       "      <td>536.000000</td>\n",
       "      <td>25.310000</td>\n",
       "    </tr>\n",
       "    <tr>\n",
       "      <th>max</th>\n",
       "      <td>21000.000000</td>\n",
       "      <td>215.450000</td>\n",
       "      <td>958.070000</td>\n",
       "      <td>119.440000</td>\n",
       "      <td>326.490000</td>\n",
       "      <td>2150.000000</td>\n",
       "      <td>270.400000</td>\n",
       "    </tr>\n",
       "  </tbody>\n",
       "</table>\n",
       "</div>"
      ],
      "text/plain": [
       "         Issue_Size  Subscription_QIB  Subscription_HNI  Subscription_RII  \\\n",
       "count    319.000000        319.000000        319.000000        319.000000   \n",
       "mean    1192.859969         25.684138         70.091379          8.561599   \n",
       "std     2384.643786         40.716782        142.454416         14.508670   \n",
       "min        0.000000          0.000000          0.000000          0.000000   \n",
       "25%      169.005000          1.150000          1.255000          1.275000   \n",
       "50%      496.250000          4.940000          5.070000          3.420000   \n",
       "75%     1100.000000         34.635000         62.095000          8.605000   \n",
       "max    21000.000000        215.450000        958.070000        119.440000   \n",
       "\n",
       "       Subscription_Total  Issue_Price  Listing_Gains_Percent  \n",
       "count          319.000000   319.000000             319.000000  \n",
       "mean            27.447147   375.128527               4.742696  \n",
       "std             48.772203   353.897614              47.650946  \n",
       "min              0.000000     0.000000             -97.150000  \n",
       "25%              1.645000   119.000000             -11.555000  \n",
       "50%              4.930000   250.000000               1.810000  \n",
       "75%             33.395000   536.000000              25.310000  \n",
       "max            326.490000  2150.000000             270.400000  "
      ]
     },
     "execution_count": 7,
     "metadata": {},
     "output_type": "execute_result"
    }
   ],
   "source": [
    "#summary statistics for all variables of the dataset\n",
    "dataset_stat = market_df.describe()\n",
    "dataset_stat"
   ]
  },
  {
   "cell_type": "code",
   "execution_count": 8,
   "id": "122105b6-4ab4-45ff-81ff-b87b1dae257d",
   "metadata": {},
   "outputs": [
    {
     "data": {
      "text/html": [
       "<div>\n",
       "<style scoped>\n",
       "    .dataframe tbody tr th:only-of-type {\n",
       "        vertical-align: middle;\n",
       "    }\n",
       "\n",
       "    .dataframe tbody tr th {\n",
       "        vertical-align: top;\n",
       "    }\n",
       "\n",
       "    .dataframe thead th {\n",
       "        text-align: right;\n",
       "    }\n",
       "</style>\n",
       "<table border=\"1\" class=\"dataframe\">\n",
       "  <thead>\n",
       "    <tr style=\"text-align: right;\">\n",
       "      <th></th>\n",
       "      <th>Date</th>\n",
       "      <th>IPOName</th>\n",
       "      <th>Issue_Size</th>\n",
       "      <th>Subscription_QIB</th>\n",
       "      <th>Subscription_HNI</th>\n",
       "      <th>Subscription_RII</th>\n",
       "      <th>Subscription_Total</th>\n",
       "      <th>Issue_Price</th>\n",
       "      <th>Listing_Gains_Percent</th>\n",
       "    </tr>\n",
       "  </thead>\n",
       "  <tbody>\n",
       "    <tr>\n",
       "      <th>0</th>\n",
       "      <td>03/02/10</td>\n",
       "      <td>Infinite Comp</td>\n",
       "      <td>189.80</td>\n",
       "      <td>48.44</td>\n",
       "      <td>106.02</td>\n",
       "      <td>11.08</td>\n",
       "      <td>43.22</td>\n",
       "      <td>165</td>\n",
       "      <td>11.82</td>\n",
       "    </tr>\n",
       "    <tr>\n",
       "      <th>1</th>\n",
       "      <td>08/02/10</td>\n",
       "      <td>Jubilant Food</td>\n",
       "      <td>328.70</td>\n",
       "      <td>59.39</td>\n",
       "      <td>51.95</td>\n",
       "      <td>3.79</td>\n",
       "      <td>31.11</td>\n",
       "      <td>145</td>\n",
       "      <td>-84.21</td>\n",
       "    </tr>\n",
       "    <tr>\n",
       "      <th>2</th>\n",
       "      <td>15/02/10</td>\n",
       "      <td>Syncom Health</td>\n",
       "      <td>56.25</td>\n",
       "      <td>0.99</td>\n",
       "      <td>16.60</td>\n",
       "      <td>6.25</td>\n",
       "      <td>5.17</td>\n",
       "      <td>75</td>\n",
       "      <td>17.13</td>\n",
       "    </tr>\n",
       "    <tr>\n",
       "      <th>3</th>\n",
       "      <td>15/02/10</td>\n",
       "      <td>Vascon Engineer</td>\n",
       "      <td>199.80</td>\n",
       "      <td>1.12</td>\n",
       "      <td>3.65</td>\n",
       "      <td>0.62</td>\n",
       "      <td>1.22</td>\n",
       "      <td>165</td>\n",
       "      <td>-11.28</td>\n",
       "    </tr>\n",
       "    <tr>\n",
       "      <th>4</th>\n",
       "      <td>19/02/10</td>\n",
       "      <td>Thangamayil</td>\n",
       "      <td>0.00</td>\n",
       "      <td>0.52</td>\n",
       "      <td>1.52</td>\n",
       "      <td>2.26</td>\n",
       "      <td>1.12</td>\n",
       "      <td>75</td>\n",
       "      <td>-5.20</td>\n",
       "    </tr>\n",
       "    <tr>\n",
       "      <th>...</th>\n",
       "      <td>...</td>\n",
       "      <td>...</td>\n",
       "      <td>...</td>\n",
       "      <td>...</td>\n",
       "      <td>...</td>\n",
       "      <td>...</td>\n",
       "      <td>...</td>\n",
       "      <td>...</td>\n",
       "      <td>...</td>\n",
       "    </tr>\n",
       "    <tr>\n",
       "      <th>314</th>\n",
       "      <td>26/08/22</td>\n",
       "      <td>Syrma SGS</td>\n",
       "      <td>840.13</td>\n",
       "      <td>42.42</td>\n",
       "      <td>7.13</td>\n",
       "      <td>2.84</td>\n",
       "      <td>15.59</td>\n",
       "      <td>220</td>\n",
       "      <td>42.30</td>\n",
       "    </tr>\n",
       "    <tr>\n",
       "      <th>315</th>\n",
       "      <td>06/09/22</td>\n",
       "      <td>Dreamfolks Serv</td>\n",
       "      <td>562.10</td>\n",
       "      <td>27.48</td>\n",
       "      <td>14.18</td>\n",
       "      <td>24.19</td>\n",
       "      <td>23.25</td>\n",
       "      <td>326</td>\n",
       "      <td>41.92</td>\n",
       "    </tr>\n",
       "    <tr>\n",
       "      <th>316</th>\n",
       "      <td>15/09/22</td>\n",
       "      <td>TMB</td>\n",
       "      <td>792.00</td>\n",
       "      <td>0.51</td>\n",
       "      <td>1.77</td>\n",
       "      <td>3.44</td>\n",
       "      <td>1.39</td>\n",
       "      <td>525</td>\n",
       "      <td>-3.15</td>\n",
       "    </tr>\n",
       "    <tr>\n",
       "      <th>317</th>\n",
       "      <td>26/09/22</td>\n",
       "      <td>Harsha Engineer</td>\n",
       "      <td>755.00</td>\n",
       "      <td>113.82</td>\n",
       "      <td>40.36</td>\n",
       "      <td>12.44</td>\n",
       "      <td>47.19</td>\n",
       "      <td>330</td>\n",
       "      <td>47.24</td>\n",
       "    </tr>\n",
       "    <tr>\n",
       "      <th>318</th>\n",
       "      <td>17/10/22</td>\n",
       "      <td>Electronics Mar</td>\n",
       "      <td>500.00</td>\n",
       "      <td>58.81</td>\n",
       "      <td>15.39</td>\n",
       "      <td>8.27</td>\n",
       "      <td>24.23</td>\n",
       "      <td>59</td>\n",
       "      <td>43.14</td>\n",
       "    </tr>\n",
       "  </tbody>\n",
       "</table>\n",
       "<p>319 rows × 9 columns</p>\n",
       "</div>"
      ],
      "text/plain": [
       "        Date           IPOName  Issue_Size  Subscription_QIB  \\\n",
       "0    03/02/10    Infinite Comp      189.80             48.44   \n",
       "1    08/02/10    Jubilant Food      328.70             59.39   \n",
       "2    15/02/10    Syncom Health       56.25              0.99   \n",
       "3    15/02/10  Vascon Engineer      199.80              1.12   \n",
       "4    19/02/10      Thangamayil        0.00              0.52   \n",
       "..        ...              ...         ...               ...   \n",
       "314  26/08/22        Syrma SGS      840.13             42.42   \n",
       "315  06/09/22  Dreamfolks Serv      562.10             27.48   \n",
       "316  15/09/22              TMB      792.00              0.51   \n",
       "317  26/09/22  Harsha Engineer      755.00            113.82   \n",
       "318  17/10/22  Electronics Mar      500.00             58.81   \n",
       "\n",
       "     Subscription_HNI  Subscription_RII  Subscription_Total  Issue_Price  \\\n",
       "0              106.02             11.08               43.22          165   \n",
       "1               51.95              3.79               31.11          145   \n",
       "2               16.60              6.25                5.17           75   \n",
       "3                3.65              0.62                1.22          165   \n",
       "4                1.52              2.26                1.12           75   \n",
       "..                ...               ...                 ...          ...   \n",
       "314              7.13              2.84               15.59          220   \n",
       "315             14.18             24.19               23.25          326   \n",
       "316              1.77              3.44                1.39          525   \n",
       "317             40.36             12.44               47.19          330   \n",
       "318             15.39              8.27               24.23           59   \n",
       "\n",
       "     Listing_Gains_Percent  \n",
       "0                    11.82  \n",
       "1                   -84.21  \n",
       "2                    17.13  \n",
       "3                   -11.28  \n",
       "4                    -5.20  \n",
       "..                     ...  \n",
       "314                  42.30  \n",
       "315                  41.92  \n",
       "316                  -3.15  \n",
       "317                  47.24  \n",
       "318                  43.14  \n",
       "\n",
       "[319 rows x 9 columns]"
      ]
     },
     "execution_count": 8,
     "metadata": {},
     "output_type": "execute_result"
    }
   ],
   "source": [
    "market_df"
   ]
  },
  {
   "cell_type": "markdown",
   "id": "f209df0c-9838-4b33-b1d3-fb57b19f85aa",
   "metadata": {},
   "source": []
  },
  {
   "cell_type": "code",
   "execution_count": 9,
   "id": "bdcda8d8-58bf-4ca0-b84e-95dbac2a0f7f",
   "metadata": {},
   "outputs": [
    {
     "name": "stdout",
     "output_type": "stream",
     "text": [
      "0      11.82\n",
      "1     -84.21\n",
      "2      17.13\n",
      "3     -11.28\n",
      "4      -5.20\n",
      "       ...  \n",
      "314    42.30\n",
      "315    41.92\n",
      "316    -3.15\n",
      "317    47.24\n",
      "318    43.14\n",
      "Name: Listing_Gains_Percent, Length: 319, dtype: float64\n"
     ]
    }
   ],
   "source": [
    "print(market_df[\"Listing_Gains_Percent\"])"
   ]
  },
  {
   "cell_type": "code",
   "execution_count": 10,
   "id": "8eab29e5-97e4-4e43-b3d1-999500f0389a",
   "metadata": {},
   "outputs": [
    {
     "data": {
      "text/plain": [
       "0"
      ]
     },
     "execution_count": 10,
     "metadata": {},
     "output_type": "execute_result"
    }
   ],
   "source": [
    "#check for null in the Listing_Gains_Percent\n",
    "market_df[\"Listing_Gains_Percent\"].isnull().sum()"
   ]
  },
  {
   "cell_type": "code",
   "execution_count": 11,
   "id": "93a1ab6d-db7e-4b45-989f-02f423968876",
   "metadata": {},
   "outputs": [
    {
     "data": {
      "text/plain": [
       "Date                     0\n",
       "IPOName                  0\n",
       "Issue_Size               0\n",
       "Subscription_QIB         0\n",
       "Subscription_HNI         0\n",
       "Subscription_RII         0\n",
       "Subscription_Total       0\n",
       "Issue_Price              0\n",
       "Listing_Gains_Percent    0\n",
       "dtype: int64"
      ]
     },
     "execution_count": 11,
     "metadata": {},
     "output_type": "execute_result"
    }
   ],
   "source": [
    "market_df.isna().sum()"
   ]
  },
  {
   "cell_type": "code",
   "execution_count": 12,
   "id": "c59191b2-2532-4cd9-9fe6-527c53ab8ab1",
   "metadata": {},
   "outputs": [
    {
     "data": {
      "text/plain": [
       "count    319.000000\n",
       "mean       4.742696\n",
       "std       47.650946\n",
       "min      -97.150000\n",
       "25%      -11.555000\n",
       "50%        1.810000\n",
       "75%       25.310000\n",
       "max      270.400000\n",
       "Name: Listing_Gains_Percent, dtype: float64"
      ]
     },
     "execution_count": 12,
     "metadata": {},
     "output_type": "execute_result"
    }
   ],
   "source": [
    "market_df[\"Listing_Gains_Percent\"].describe()"
   ]
  },
  {
   "cell_type": "code",
   "execution_count": 13,
   "id": "f37f0ce0-c1ab-4121-97ce-f9edf449fff0",
   "metadata": {},
   "outputs": [
    {
     "data": {
      "text/html": [
       "<div>\n",
       "<style scoped>\n",
       "    .dataframe tbody tr th:only-of-type {\n",
       "        vertical-align: middle;\n",
       "    }\n",
       "\n",
       "    .dataframe tbody tr th {\n",
       "        vertical-align: top;\n",
       "    }\n",
       "\n",
       "    .dataframe thead th {\n",
       "        text-align: right;\n",
       "    }\n",
       "</style>\n",
       "<table border=\"1\" class=\"dataframe\">\n",
       "  <thead>\n",
       "    <tr style=\"text-align: right;\">\n",
       "      <th></th>\n",
       "      <th>Date</th>\n",
       "      <th>IPOName</th>\n",
       "      <th>Issue_Size</th>\n",
       "      <th>Subscription_QIB</th>\n",
       "      <th>Subscription_HNI</th>\n",
       "      <th>Subscription_RII</th>\n",
       "      <th>Subscription_Total</th>\n",
       "      <th>Issue_Price</th>\n",
       "      <th>Listing_Gains_Percent</th>\n",
       "    </tr>\n",
       "  </thead>\n",
       "  <tbody>\n",
       "    <tr>\n",
       "      <th>0</th>\n",
       "      <td>03/02/10</td>\n",
       "      <td>Infinite Comp</td>\n",
       "      <td>189.80</td>\n",
       "      <td>48.44</td>\n",
       "      <td>106.02</td>\n",
       "      <td>11.08</td>\n",
       "      <td>43.22</td>\n",
       "      <td>165</td>\n",
       "      <td>11.82</td>\n",
       "    </tr>\n",
       "    <tr>\n",
       "      <th>1</th>\n",
       "      <td>08/02/10</td>\n",
       "      <td>Jubilant Food</td>\n",
       "      <td>328.70</td>\n",
       "      <td>59.39</td>\n",
       "      <td>51.95</td>\n",
       "      <td>3.79</td>\n",
       "      <td>31.11</td>\n",
       "      <td>145</td>\n",
       "      <td>-84.21</td>\n",
       "    </tr>\n",
       "    <tr>\n",
       "      <th>2</th>\n",
       "      <td>15/02/10</td>\n",
       "      <td>Syncom Health</td>\n",
       "      <td>56.25</td>\n",
       "      <td>0.99</td>\n",
       "      <td>16.60</td>\n",
       "      <td>6.25</td>\n",
       "      <td>5.17</td>\n",
       "      <td>75</td>\n",
       "      <td>17.13</td>\n",
       "    </tr>\n",
       "    <tr>\n",
       "      <th>3</th>\n",
       "      <td>15/02/10</td>\n",
       "      <td>Vascon Engineer</td>\n",
       "      <td>199.80</td>\n",
       "      <td>1.12</td>\n",
       "      <td>3.65</td>\n",
       "      <td>0.62</td>\n",
       "      <td>1.22</td>\n",
       "      <td>165</td>\n",
       "      <td>-11.28</td>\n",
       "    </tr>\n",
       "    <tr>\n",
       "      <th>4</th>\n",
       "      <td>19/02/10</td>\n",
       "      <td>Thangamayil</td>\n",
       "      <td>0.00</td>\n",
       "      <td>0.52</td>\n",
       "      <td>1.52</td>\n",
       "      <td>2.26</td>\n",
       "      <td>1.12</td>\n",
       "      <td>75</td>\n",
       "      <td>-5.20</td>\n",
       "    </tr>\n",
       "    <tr>\n",
       "      <th>...</th>\n",
       "      <td>...</td>\n",
       "      <td>...</td>\n",
       "      <td>...</td>\n",
       "      <td>...</td>\n",
       "      <td>...</td>\n",
       "      <td>...</td>\n",
       "      <td>...</td>\n",
       "      <td>...</td>\n",
       "      <td>...</td>\n",
       "    </tr>\n",
       "    <tr>\n",
       "      <th>314</th>\n",
       "      <td>26/08/22</td>\n",
       "      <td>Syrma SGS</td>\n",
       "      <td>840.13</td>\n",
       "      <td>42.42</td>\n",
       "      <td>7.13</td>\n",
       "      <td>2.84</td>\n",
       "      <td>15.59</td>\n",
       "      <td>220</td>\n",
       "      <td>42.30</td>\n",
       "    </tr>\n",
       "    <tr>\n",
       "      <th>315</th>\n",
       "      <td>06/09/22</td>\n",
       "      <td>Dreamfolks Serv</td>\n",
       "      <td>562.10</td>\n",
       "      <td>27.48</td>\n",
       "      <td>14.18</td>\n",
       "      <td>24.19</td>\n",
       "      <td>23.25</td>\n",
       "      <td>326</td>\n",
       "      <td>41.92</td>\n",
       "    </tr>\n",
       "    <tr>\n",
       "      <th>316</th>\n",
       "      <td>15/09/22</td>\n",
       "      <td>TMB</td>\n",
       "      <td>792.00</td>\n",
       "      <td>0.51</td>\n",
       "      <td>1.77</td>\n",
       "      <td>3.44</td>\n",
       "      <td>1.39</td>\n",
       "      <td>525</td>\n",
       "      <td>-3.15</td>\n",
       "    </tr>\n",
       "    <tr>\n",
       "      <th>317</th>\n",
       "      <td>26/09/22</td>\n",
       "      <td>Harsha Engineer</td>\n",
       "      <td>755.00</td>\n",
       "      <td>113.82</td>\n",
       "      <td>40.36</td>\n",
       "      <td>12.44</td>\n",
       "      <td>47.19</td>\n",
       "      <td>330</td>\n",
       "      <td>47.24</td>\n",
       "    </tr>\n",
       "    <tr>\n",
       "      <th>318</th>\n",
       "      <td>17/10/22</td>\n",
       "      <td>Electronics Mar</td>\n",
       "      <td>500.00</td>\n",
       "      <td>58.81</td>\n",
       "      <td>15.39</td>\n",
       "      <td>8.27</td>\n",
       "      <td>24.23</td>\n",
       "      <td>59</td>\n",
       "      <td>43.14</td>\n",
       "    </tr>\n",
       "  </tbody>\n",
       "</table>\n",
       "<p>319 rows × 9 columns</p>\n",
       "</div>"
      ],
      "text/plain": [
       "        Date           IPOName  Issue_Size  Subscription_QIB  \\\n",
       "0    03/02/10    Infinite Comp      189.80             48.44   \n",
       "1    08/02/10    Jubilant Food      328.70             59.39   \n",
       "2    15/02/10    Syncom Health       56.25              0.99   \n",
       "3    15/02/10  Vascon Engineer      199.80              1.12   \n",
       "4    19/02/10      Thangamayil        0.00              0.52   \n",
       "..        ...              ...         ...               ...   \n",
       "314  26/08/22        Syrma SGS      840.13             42.42   \n",
       "315  06/09/22  Dreamfolks Serv      562.10             27.48   \n",
       "316  15/09/22              TMB      792.00              0.51   \n",
       "317  26/09/22  Harsha Engineer      755.00            113.82   \n",
       "318  17/10/22  Electronics Mar      500.00             58.81   \n",
       "\n",
       "     Subscription_HNI  Subscription_RII  Subscription_Total  Issue_Price  \\\n",
       "0              106.02             11.08               43.22          165   \n",
       "1               51.95              3.79               31.11          145   \n",
       "2               16.60              6.25                5.17           75   \n",
       "3                3.65              0.62                1.22          165   \n",
       "4                1.52              2.26                1.12           75   \n",
       "..                ...               ...                 ...          ...   \n",
       "314              7.13              2.84               15.59          220   \n",
       "315             14.18             24.19               23.25          326   \n",
       "316              1.77              3.44                1.39          525   \n",
       "317             40.36             12.44               47.19          330   \n",
       "318             15.39              8.27               24.23           59   \n",
       "\n",
       "     Listing_Gains_Percent  \n",
       "0                    11.82  \n",
       "1                   -84.21  \n",
       "2                    17.13  \n",
       "3                   -11.28  \n",
       "4                    -5.20  \n",
       "..                     ...  \n",
       "314                  42.30  \n",
       "315                  41.92  \n",
       "316                  -3.15  \n",
       "317                  47.24  \n",
       "318                  43.14  \n",
       "\n",
       "[319 rows x 9 columns]"
      ]
     },
     "execution_count": 13,
     "metadata": {},
     "output_type": "execute_result"
    }
   ],
   "source": [
    "market_df"
   ]
  },
  {
   "cell_type": "code",
   "execution_count": 14,
   "id": "b0d820b2-bf39-45da-8c71-57439321836a",
   "metadata": {},
   "outputs": [
    {
     "data": {
      "text/plain": [
       "Listing_Gains_Percent\n",
       " 7.35     2\n",
       " 0.00     2\n",
       " 3.06     2\n",
       "-5.00     2\n",
       " 23.19    2\n",
       "         ..\n",
       "-13.09    1\n",
       "-44.81    1\n",
       "-0.02     1\n",
       "-97.15    1\n",
       " 43.14    1\n",
       "Name: count, Length: 312, dtype: int64"
      ]
     },
     "execution_count": 14,
     "metadata": {},
     "output_type": "execute_result"
    }
   ],
   "source": [
    "#Create a categorical target variable, Listing_Gains_Profit, which takes the binary values 1 \n",
    "#when Listing_Gains_Percent is positive and 0 otherwise.\n",
    "\n",
    "market_df['Listing_Gains_Profit'] = np.where(market_df['Listing_Gains_Percent'] > 0, 1, 0)\n",
    "market_df['Listing_Gains_Percent'].value_counts()\n"
   ]
  },
  {
   "cell_type": "code",
   "execution_count": 15,
   "id": "e4bb82b6-9a2b-4688-86bc-566557c160d3",
   "metadata": {},
   "outputs": [
    {
     "data": {
      "text/plain": [
       "Listing_Gains_Profit\n",
       "1    0.545455\n",
       "0    0.454545\n",
       "Name: proportion, dtype: float64"
      ]
     },
     "execution_count": 15,
     "metadata": {},
     "output_type": "execute_result"
    }
   ],
   "source": [
    "# percentage of the IPOs listed at a profit?\n",
    "market_df['Listing_Gains_Profit'].value_counts(normalize=True)"
   ]
  },
  {
   "cell_type": "code",
   "execution_count": 16,
   "id": "d2fc02a6-3aa3-4797-bd0e-2732eb792507",
   "metadata": {},
   "outputs": [
    {
     "name": "stdout",
     "output_type": "stream",
     "text": [
      "<class 'pandas.core.frame.DataFrame'>\n",
      "RangeIndex: 319 entries, 0 to 318\n",
      "Data columns (total 7 columns):\n",
      " #   Column                Non-Null Count  Dtype  \n",
      "---  ------                --------------  -----  \n",
      " 0   Issue_Size            319 non-null    float64\n",
      " 1   Subscription_QIB      319 non-null    float64\n",
      " 2   Subscription_HNI      319 non-null    float64\n",
      " 3   Subscription_RII      319 non-null    float64\n",
      " 4   Subscription_Total    319 non-null    float64\n",
      " 5   Issue_Price           319 non-null    int64  \n",
      " 6   Listing_Gains_Profit  319 non-null    int32  \n",
      "dtypes: float64(5), int32(1), int64(1)\n",
      "memory usage: 16.3 KB\n"
     ]
    }
   ],
   "source": [
    "# Irrelevant columns are droppped from the dataset\n",
    "market_df = market_df.drop(['Date ', 'IPOName', 'Listing_Gains_Percent'], axis=1)\n",
    "market_df.info()"
   ]
  },
  {
   "cell_type": "code",
   "execution_count": 17,
   "id": "142488ec-5131-4446-b268-973d8c4c28ae",
   "metadata": {},
   "outputs": [
    {
     "data": {
      "text/html": [
       "<div>\n",
       "<style scoped>\n",
       "    .dataframe tbody tr th:only-of-type {\n",
       "        vertical-align: middle;\n",
       "    }\n",
       "\n",
       "    .dataframe tbody tr th {\n",
       "        vertical-align: top;\n",
       "    }\n",
       "\n",
       "    .dataframe thead th {\n",
       "        text-align: right;\n",
       "    }\n",
       "</style>\n",
       "<table border=\"1\" class=\"dataframe\">\n",
       "  <thead>\n",
       "    <tr style=\"text-align: right;\">\n",
       "      <th></th>\n",
       "      <th>Issue_Size</th>\n",
       "      <th>Subscription_QIB</th>\n",
       "      <th>Subscription_HNI</th>\n",
       "      <th>Subscription_RII</th>\n",
       "      <th>Subscription_Total</th>\n",
       "      <th>Issue_Price</th>\n",
       "      <th>Listing_Gains_Profit</th>\n",
       "    </tr>\n",
       "  </thead>\n",
       "  <tbody>\n",
       "    <tr>\n",
       "      <th>0</th>\n",
       "      <td>189.80</td>\n",
       "      <td>48.44</td>\n",
       "      <td>106.02</td>\n",
       "      <td>11.08</td>\n",
       "      <td>43.22</td>\n",
       "      <td>165</td>\n",
       "      <td>1</td>\n",
       "    </tr>\n",
       "    <tr>\n",
       "      <th>1</th>\n",
       "      <td>328.70</td>\n",
       "      <td>59.39</td>\n",
       "      <td>51.95</td>\n",
       "      <td>3.79</td>\n",
       "      <td>31.11</td>\n",
       "      <td>145</td>\n",
       "      <td>0</td>\n",
       "    </tr>\n",
       "    <tr>\n",
       "      <th>2</th>\n",
       "      <td>56.25</td>\n",
       "      <td>0.99</td>\n",
       "      <td>16.60</td>\n",
       "      <td>6.25</td>\n",
       "      <td>5.17</td>\n",
       "      <td>75</td>\n",
       "      <td>1</td>\n",
       "    </tr>\n",
       "    <tr>\n",
       "      <th>3</th>\n",
       "      <td>199.80</td>\n",
       "      <td>1.12</td>\n",
       "      <td>3.65</td>\n",
       "      <td>0.62</td>\n",
       "      <td>1.22</td>\n",
       "      <td>165</td>\n",
       "      <td>0</td>\n",
       "    </tr>\n",
       "    <tr>\n",
       "      <th>4</th>\n",
       "      <td>0.00</td>\n",
       "      <td>0.52</td>\n",
       "      <td>1.52</td>\n",
       "      <td>2.26</td>\n",
       "      <td>1.12</td>\n",
       "      <td>75</td>\n",
       "      <td>0</td>\n",
       "    </tr>\n",
       "    <tr>\n",
       "      <th>...</th>\n",
       "      <td>...</td>\n",
       "      <td>...</td>\n",
       "      <td>...</td>\n",
       "      <td>...</td>\n",
       "      <td>...</td>\n",
       "      <td>...</td>\n",
       "      <td>...</td>\n",
       "    </tr>\n",
       "    <tr>\n",
       "      <th>314</th>\n",
       "      <td>840.13</td>\n",
       "      <td>42.42</td>\n",
       "      <td>7.13</td>\n",
       "      <td>2.84</td>\n",
       "      <td>15.59</td>\n",
       "      <td>220</td>\n",
       "      <td>1</td>\n",
       "    </tr>\n",
       "    <tr>\n",
       "      <th>315</th>\n",
       "      <td>562.10</td>\n",
       "      <td>27.48</td>\n",
       "      <td>14.18</td>\n",
       "      <td>24.19</td>\n",
       "      <td>23.25</td>\n",
       "      <td>326</td>\n",
       "      <td>1</td>\n",
       "    </tr>\n",
       "    <tr>\n",
       "      <th>316</th>\n",
       "      <td>792.00</td>\n",
       "      <td>0.51</td>\n",
       "      <td>1.77</td>\n",
       "      <td>3.44</td>\n",
       "      <td>1.39</td>\n",
       "      <td>525</td>\n",
       "      <td>0</td>\n",
       "    </tr>\n",
       "    <tr>\n",
       "      <th>317</th>\n",
       "      <td>755.00</td>\n",
       "      <td>113.82</td>\n",
       "      <td>40.36</td>\n",
       "      <td>12.44</td>\n",
       "      <td>47.19</td>\n",
       "      <td>330</td>\n",
       "      <td>1</td>\n",
       "    </tr>\n",
       "    <tr>\n",
       "      <th>318</th>\n",
       "      <td>500.00</td>\n",
       "      <td>58.81</td>\n",
       "      <td>15.39</td>\n",
       "      <td>8.27</td>\n",
       "      <td>24.23</td>\n",
       "      <td>59</td>\n",
       "      <td>1</td>\n",
       "    </tr>\n",
       "  </tbody>\n",
       "</table>\n",
       "<p>319 rows × 7 columns</p>\n",
       "</div>"
      ],
      "text/plain": [
       "     Issue_Size  Subscription_QIB  Subscription_HNI  Subscription_RII  \\\n",
       "0        189.80             48.44            106.02             11.08   \n",
       "1        328.70             59.39             51.95              3.79   \n",
       "2         56.25              0.99             16.60              6.25   \n",
       "3        199.80              1.12              3.65              0.62   \n",
       "4          0.00              0.52              1.52              2.26   \n",
       "..          ...               ...               ...               ...   \n",
       "314      840.13             42.42              7.13              2.84   \n",
       "315      562.10             27.48             14.18             24.19   \n",
       "316      792.00              0.51              1.77              3.44   \n",
       "317      755.00            113.82             40.36             12.44   \n",
       "318      500.00             58.81             15.39              8.27   \n",
       "\n",
       "     Subscription_Total  Issue_Price  Listing_Gains_Profit  \n",
       "0                 43.22          165                     1  \n",
       "1                 31.11          145                     0  \n",
       "2                  5.17           75                     1  \n",
       "3                  1.22          165                     0  \n",
       "4                  1.12           75                     0  \n",
       "..                  ...          ...                   ...  \n",
       "314               15.59          220                     1  \n",
       "315               23.25          326                     1  \n",
       "316                1.39          525                     0  \n",
       "317               47.19          330                     1  \n",
       "318               24.23           59                     1  \n",
       "\n",
       "[319 rows x 7 columns]"
      ]
     },
     "execution_count": 17,
     "metadata": {},
     "output_type": "execute_result"
    }
   ],
   "source": [
    "market_df"
   ]
  },
  {
   "cell_type": "markdown",
   "id": "47797224-2d31-4428-8dd6-e325a6d2f350",
   "metadata": {},
   "source": [
    "## Visualization"
   ]
  },
  {
   "cell_type": "code",
   "execution_count": 18,
   "id": "202b2c16-ea2e-4a25-ae1c-9dd116a6c6c4",
   "metadata": {},
   "outputs": [
    {
     "data": {
      "text/plain": [
       "<function matplotlib.pyplot.show(close=None, block=None)>"
      ]
     },
     "execution_count": 18,
     "metadata": {},
     "output_type": "execute_result"
    },
    {
     "data": {
      "image/png": "[encoded data removed]",
      "text/plain": [
       "<Figure size 640x480 with 1 Axes>"
      ]
     },
     "metadata": {},
     "output_type": "display_data"
    }
   ],
   "source": [
    "# countplot to visualize the distribution of the target variable\n",
    "sns.countplot(x =\"Listing_Gains_Profit\", data=market_df)\n",
    "plt.title(\"Distribution of IPO Listing Profit Category\")\n",
    "plt.ylabel(\"Frequency\")\n",
    "plt.xlabel(\"Listing Profit (No=0, Yes=1)\")\n",
    "plt.show"
   ]
  },
  {
   "cell_type": "markdown",
   "id": "d6124691-38b2-46a0-9a14-50e3b7a39fe8",
   "metadata": {},
   "source": [
    "#### Outliers Check\n",
    "Plots is used to check for the presence of outliers in each of the continuous variables of the dataset\n"
   ]
  },
  {
   "cell_type": "code",
   "execution_count": 19,
   "id": "e53767f0-58a8-4d28-8736-ee7e5cff4ecc",
   "metadata": {},
   "outputs": [
    {
     "data": {
      "image/png": "[encoded data removed]",
      "text/plain": [
       "<Figure size 640x480 with 1 Axes>"
      ]
     },
     "metadata": {},
     "output_type": "display_data"
    }
   ],
   "source": [
    "#check for the presence of outliers in Issue_Price\n",
    "sns.boxplot(data=market_df, y='Issue_Price')\n",
    "plt.title('Boxplot of Issue_Price')\n",
    "plt.show()"
   ]
  },
  {
   "cell_type": "code",
   "execution_count": 20,
   "id": "83c4caf5-ecf0-4016-9785-b12ef0f96bf7",
   "metadata": {},
   "outputs": [
    {
     "data": {
      "image/png": "[encoded data removed]",
      "text/plain": [
       "<Figure size 640x480 with 1 Axes>"
      ]
     },
     "metadata": {},
     "output_type": "display_data"
    }
   ],
   "source": [
    "sns.boxplot(data=market_df, x='Listing_Gains_Profit', y='Issue_Price')\n",
    "plt.title('Boxplot of Issue_Price with respect to Listing Gains Type')\n",
    "plt.xlabel('Listing Profit (No=0, Yes=1)')\n",
    "plt.show()"
   ]
  },
  {
   "cell_type": "code",
   "execution_count": 21,
   "id": "edca9c8d-d812-41d2-a151-e0c124c6901b",
   "metadata": {},
   "outputs": [
    {
     "data": {
      "image/png": "[encoded data removed]",
      "text/plain": [
       "<Figure size 640x480 with 1 Axes>"
      ]
     },
     "metadata": {},
     "output_type": "display_data"
    }
   ],
   "source": [
    "#check for the presence of outliers in Issue_Size\n",
    "sns.boxplot(data=market_df, y='Issue_Size')\n",
    "plt.title('Boxplot of Issue_Size')\n",
    "plt.show()"
   ]
  },
  {
   "cell_type": "code",
   "execution_count": 22,
   "id": "6d38af93-26bd-47c5-9e9f-61e786a8ad18",
   "metadata": {},
   "outputs": [
    {
     "data": {
      "image/png": "[encoded data removed]",
      "text/plain": [
       "<Figure size 640x480 with 1 Axes>"
      ]
     },
     "metadata": {},
     "output_type": "display_data"
    }
   ],
   "source": [
    "#check for the presence of outliers in Subscription_QIB\n",
    "sns.boxplot(data=market_df, y='Subscription_QIB')\n",
    "plt.title('Boxplot of Subscription_QIB')\n",
    "plt.show()"
   ]
  },
  {
   "cell_type": "code",
   "execution_count": 23,
   "id": "6e01cbec-b076-4ba9-88ab-e6c3b7ac3ddd",
   "metadata": {},
   "outputs": [
    {
     "data": {
      "image/png": "[encoded data removed]",
      "text/plain": [
       "<Figure size 640x480 with 1 Axes>"
      ]
     },
     "metadata": {},
     "output_type": "display_data"
    }
   ],
   "source": [
    "#check for the presence of outliers in Subscription_HNI      \n",
    "sns.boxplot(data=market_df, y='Subscription_HNI')\n",
    "plt.title('Boxplot of Subscription_HNI      ')\n",
    "plt.show()"
   ]
  },
  {
   "cell_type": "code",
   "execution_count": 24,
   "id": "91895543-ca7d-4304-81ab-7077a3a80542",
   "metadata": {},
   "outputs": [
    {
     "data": {
      "image/png": "[encoded data removed]",
      "text/plain": [
       "<Figure size 1000x800 with 2 Axes>"
      ]
     },
     "metadata": {},
     "output_type": "display_data"
    }
   ],
   "source": [
    "# check for correllation\n",
    "plt.figure(figsize=(10,8))\n",
    "sns.heatmap(market_df.corr(), annot=True, cmap='coolwarm', linewidths=0.5)\n",
    "plt.title('Correlation Heatmap of Predictor Variables')\n",
    "plt.show()"
   ]
  },
  {
   "cell_type": "markdown",
   "id": "b8c2a901-3911-4796-9071-143c60100ebf",
   "metadata": {},
   "source": [
    "#### Key Findings from Outlier Investigation\n",
    "\n",
    "* The histogram and the boxplots show that outliers are present in the data and might need outlier treatment.\r\n",
    "* The boxplot of Issue_Price, with respect to Listing_Gains_Profit, shows that there are more outliers for IPOs that listed a loss than there are outliers for IPOs that listed a profit.\r\n",
    "* There are correlations between some variables while others show poor correlation and good correlation.\r\n"
   ]
  },
  {
   "cell_type": "markdown",
   "id": "dff1500e-cbe9-4a31-9aee-6662fc19490b",
   "metadata": {},
   "source": [
    "#### Treating Outliers\n"
   ]
  },
  {
   "cell_type": "code",
   "execution_count": 25,
   "id": "0ea79789-c1c2-4d1c-b864-a062280e24c2",
   "metadata": {},
   "outputs": [
    {
     "data": {
      "text/plain": [
       "Issue_Size              4.853402\n",
       "Subscription_QIB        2.143705\n",
       "Subscription_HNI        3.078445\n",
       "Subscription_RII        3.708274\n",
       "Subscription_Total      2.911907\n",
       "Issue_Price             1.696881\n",
       "Listing_Gains_Profit   -0.183438\n",
       "dtype: float64"
      ]
     },
     "execution_count": 25,
     "metadata": {},
     "output_type": "execute_result"
    }
   ],
   "source": [
    "#check for skewnes for numerical variables\n",
    "market_df.skew()"
   ]
  },
  {
   "cell_type": "markdown",
   "id": "6ca5fe29-7373-48d8-bf0b-e38146e3db47",
   "metadata": {},
   "source": [
    "###### Findings from skewness check\n",
    "Skewness values greater than 1 indicate a significant departure from symmetry, suggesting the presence of outliers or non-normal distribution.\n",
    "\n"
   ]
  },
  {
   "cell_type": "markdown",
   "id": "b6bc22f0-7955-4afb-a72d-577fc6c9278d",
   "metadata": {},
   "source": [
    "##### Handling outlier in Issue_Size \n",
    "Interquartile menthod was used to address the outlierS. I clipped the variable values between the upper and lower bounds."
   ]
  },
  {
   "cell_type": "code",
   "execution_count": 26,
   "id": "c9ca41de-bdfd-4855-b09a-51ec50030de2",
   "metadata": {},
   "outputs": [
    {
     "name": "stdout",
     "output_type": "stream",
     "text": [
      "IQR = 930.995\n",
      "lower = -1227.4875000000002\n",
      "upper = 2496.4925000000003\n"
     ]
    }
   ],
   "source": [
    "#handling outlier in Issue_Size \n",
    "q1 = market_df['Issue_Size'].quantile(q=0.25)\n",
    "q3 = market_df['Issue_Size'].quantile(q=0.75)  \n",
    "iqr = q3 - q1   \n",
    "lower = (q1 - 1.5 * iqr) \n",
    "upper = (q3 + 1.5 * iqr) \n",
    "print('IQR = ', iqr, '\\nlower = ', lower, '\\nupper = ', upper, sep='')"
   ]
  },
  {
   "cell_type": "code",
   "execution_count": 27,
   "id": "f4461d1d-6e80-4d71-b414-7f217994fa3c",
   "metadata": {},
   "outputs": [
    {
     "data": {
      "text/plain": [
       "count     319.000000\n",
       "mean      763.561238\n",
       "std       769.689122\n",
       "min         0.000000\n",
       "25%       169.005000\n",
       "50%       496.250000\n",
       "75%      1100.000000\n",
       "max      2496.492500\n",
       "Name: Issue_Size, dtype: float64"
      ]
     },
     "execution_count": 27,
     "metadata": {},
     "output_type": "execute_result"
    }
   ],
   "source": [
    "# use clip method\n",
    "market_df['Issue_Size'] = market_df['Issue_Size'].clip(lower, upper)\n",
    "market_df['Issue_Size'].describe()"
   ]
  },
  {
   "cell_type": "code",
   "execution_count": 28,
   "id": "bb0f0e77-a479-4ec1-a6d8-38a15d97f96f",
   "metadata": {},
   "outputs": [
    {
     "data": {
      "text/plain": [
       "1.2246204359225623"
      ]
     },
     "execution_count": 28,
     "metadata": {},
     "output_type": "execute_result"
    }
   ],
   "source": [
    "#check for skewness\n",
    "market_df['Issue_Size'].skew()"
   ]
  },
  {
   "cell_type": "markdown",
   "id": "38863bcf-01ef-41b9-b162-9a67ad158e51",
   "metadata": {},
   "source": [
    "##### Handling outlier in Subscription_QIB "
   ]
  },
  {
   "cell_type": "code",
   "execution_count": 29,
   "id": "634afb77-6572-400d-a399-e80f9ee40e9b",
   "metadata": {},
   "outputs": [
    {
     "name": "stdout",
     "output_type": "stream",
     "text": [
      "IQR = 33.48500000000001\n",
      "lower = -49.07750000000001\n",
      "upper = 84.86250000000001\n"
     ]
    }
   ],
   "source": [
    "#handling outlier in Subscription_QIB \n",
    "q1 = market_df['Subscription_QIB'].quantile(q=0.25)\n",
    "q3 = market_df['Subscription_QIB'].quantile(q=0.75)  \n",
    "iqr = q3 - q1   \n",
    "lower = (q1 - 1.5 * iqr) \n",
    "upper = (q3 + 1.5 * iqr) \n",
    "print('IQR = ', iqr, '\\nlower = ', lower, '\\nupper = ', upper, sep='')"
   ]
  },
  {
   "cell_type": "code",
   "execution_count": 30,
   "id": "6079cee9-0c26-4254-988f-d9c194e62e99",
   "metadata": {},
   "outputs": [
    {
     "data": {
      "text/plain": [
       "count    319.000000\n",
       "mean      21.521183\n",
       "std       29.104549\n",
       "min        0.000000\n",
       "25%        1.150000\n",
       "50%        4.940000\n",
       "75%       34.635000\n",
       "max       84.862500\n",
       "Name: Subscription_QIB, dtype: float64"
      ]
     },
     "execution_count": 30,
     "metadata": {},
     "output_type": "execute_result"
    }
   ],
   "source": [
    "# use clip method\n",
    "market_df['Subscription_QIB'] = market_df['Subscription_QIB'].clip(lower, upper)\n",
    "market_df['Subscription_QIB'].describe()"
   ]
  },
  {
   "cell_type": "code",
   "execution_count": 31,
   "id": "f4307e8d-9e8d-4f8e-a54c-f5e1a01aeaee",
   "metadata": {},
   "outputs": [
    {
     "data": {
      "text/plain": [
       "1.262734274613526"
      ]
     },
     "execution_count": 31,
     "metadata": {},
     "output_type": "execute_result"
    }
   ],
   "source": [
    "#check for skewness\n",
    "market_df['Subscription_QIB'].skew()"
   ]
  },
  {
   "cell_type": "markdown",
   "id": "6aef0f63-c517-42d8-be1a-176feab48736",
   "metadata": {},
   "source": [
    "##### Handling outlier in Subscription_HNI "
   ]
  },
  {
   "cell_type": "code",
   "execution_count": 32,
   "id": "14e77245-5283-40f8-86d8-5872b2dfdcc4",
   "metadata": {},
   "outputs": [
    {
     "name": "stdout",
     "output_type": "stream",
     "text": [
      "IQR = 60.839999999999996\n",
      "lower = -90.005\n",
      "upper = 153.355\n"
     ]
    }
   ],
   "source": [
    "#handling outlier in Subscription_QIB \n",
    "q1 = market_df['Subscription_HNI'].quantile(q=0.25)\n",
    "q3 = market_df['Subscription_HNI'].quantile(q=0.75)  \n",
    "iqr = q3 - q1   \n",
    "lower = (q1 - 1.5 * iqr) \n",
    "upper = (q3 + 1.5 * iqr) \n",
    "print('IQR = ', iqr, '\\nlower = ', lower, '\\nupper = ', upper, sep='')"
   ]
  },
  {
   "cell_type": "code",
   "execution_count": 33,
   "id": "95da0869-d003-43dd-ba9e-0577e8f764dd",
   "metadata": {},
   "outputs": [
    {
     "data": {
      "text/plain": [
       "count    319.000000\n",
       "mean      40.356426\n",
       "std       57.427921\n",
       "min        0.000000\n",
       "25%        1.255000\n",
       "50%        5.070000\n",
       "75%       62.095000\n",
       "max      153.355000\n",
       "Name: Subscription_HNI, dtype: float64"
      ]
     },
     "execution_count": 33,
     "metadata": {},
     "output_type": "execute_result"
    }
   ],
   "source": [
    "# use clip method\n",
    "market_df['Subscription_HNI'] = market_df['Subscription_HNI'].clip(lower, upper)\n",
    "market_df['Subscription_HNI'].describe()"
   ]
  },
  {
   "cell_type": "code",
   "execution_count": 34,
   "id": "8e9ed41b-32a9-4b16-a883-e76b0fc66cdf",
   "metadata": {},
   "outputs": [
    {
     "data": {
      "text/plain": [
       "1.1816363175334872"
      ]
     },
     "execution_count": 34,
     "metadata": {},
     "output_type": "execute_result"
    }
   ],
   "source": [
    "#check for skewness\n",
    "market_df['Subscription_HNI'].skew()"
   ]
  },
  {
   "cell_type": "markdown",
   "id": "c7cd83e7-1418-4566-8b1c-c561aaeafef3",
   "metadata": {},
   "source": [
    "##### Handling outlier in Subscription_RII "
   ]
  },
  {
   "cell_type": "code",
   "execution_count": 35,
   "id": "668e9c26-0e38-4b39-b9d1-2792dffd3806",
   "metadata": {},
   "outputs": [
    {
     "name": "stdout",
     "output_type": "stream",
     "text": [
      "IQR = 7.33\n",
      "lower = -9.72\n",
      "upper = 19.6\n"
     ]
    }
   ],
   "source": [
    "#handling outlier in Subscription_QIB \n",
    "q1 = market_df['Subscription_RII'].quantile(q=0.25)\n",
    "q3 = market_df['Subscription_RII'].quantile(q=0.75)  \n",
    "iqr = q3 - q1   \n",
    "lower = (q1 - 1.5 * iqr) \n",
    "upper = (q3 + 1.5 * iqr) \n",
    "print('IQR = ', iqr, '\\nlower = ', lower, '\\nupper = ', upper, sep='')"
   ]
  },
  {
   "cell_type": "code",
   "execution_count": 36,
   "id": "0ec4db20-7580-4510-80a6-08080cd0626c",
   "metadata": {},
   "outputs": [
    {
     "data": {
      "text/plain": [
       "count    319.000000\n",
       "mean       6.060940\n",
       "std        6.176882\n",
       "min        0.000000\n",
       "25%        1.275000\n",
       "50%        3.420000\n",
       "75%        8.605000\n",
       "max       19.600000\n",
       "Name: Subscription_RII, dtype: float64"
      ]
     },
     "execution_count": 36,
     "metadata": {},
     "output_type": "execute_result"
    }
   ],
   "source": [
    "# use clip method\n",
    "market_df['Subscription_RII'] = market_df['Subscription_RII'].clip(lower, upper)\n",
    "market_df['Subscription_RII'].describe()"
   ]
  },
  {
   "cell_type": "code",
   "execution_count": 37,
   "id": "e5c00a09-39a8-43f0-93d5-5c108558b9c6",
   "metadata": {},
   "outputs": [
    {
     "data": {
      "text/plain": [
       "1.12917087322117"
      ]
     },
     "execution_count": 37,
     "metadata": {},
     "output_type": "execute_result"
    }
   ],
   "source": [
    "#check for skewness\n",
    "market_df['Subscription_RII'].skew()"
   ]
  },
  {
   "cell_type": "markdown",
   "id": "d9917cf4-51fd-4839-8a1a-03a92874bb7c",
   "metadata": {},
   "source": [
    "##### Handling outlier in Subscription_Total "
   ]
  },
  {
   "cell_type": "code",
   "execution_count": 38,
   "id": "123e1643-e622-4aa9-bc95-78e415f18562",
   "metadata": {},
   "outputs": [
    {
     "name": "stdout",
     "output_type": "stream",
     "text": [
      "IQR = 31.749999999999996\n",
      "lower = -45.97999999999999\n",
      "upper = 81.01999999999998\n"
     ]
    }
   ],
   "source": [
    "#handling outlier in Subscription_QIB \n",
    "q1 = market_df['Subscription_Total'].quantile(q=0.25)\n",
    "q3 = market_df['Subscription_Total'].quantile(q=0.75)  \n",
    "iqr = q3 - q1   \n",
    "lower = (q1 - 1.5 * iqr) \n",
    "upper = (q3 + 1.5 * iqr) \n",
    "print('IQR = ', iqr, '\\nlower = ', lower, '\\nupper = ', upper, sep='')"
   ]
  },
  {
   "cell_type": "code",
   "execution_count": 39,
   "id": "697e9b4c-5cc9-4f5d-b9c7-d375e50252ef",
   "metadata": {},
   "outputs": [
    {
     "data": {
      "text/plain": [
       "count    319.000000\n",
       "mean      20.456646\n",
       "std       27.217740\n",
       "min        0.000000\n",
       "25%        1.645000\n",
       "50%        4.930000\n",
       "75%       33.395000\n",
       "max       81.020000\n",
       "Name: Subscription_Total, dtype: float64"
      ]
     },
     "execution_count": 39,
     "metadata": {},
     "output_type": "execute_result"
    }
   ],
   "source": [
    "# use clip method\n",
    "market_df['Subscription_Total'] = market_df['Subscription_Total'].clip(lower, upper)\n",
    "market_df['Subscription_Total'].describe()"
   ]
  },
  {
   "cell_type": "code",
   "execution_count": 40,
   "id": "046e30ca-ffce-4028-bb76-7a0e50a6c5d1",
   "metadata": {},
   "outputs": [
    {
     "data": {
      "text/plain": [
       "1.2938804195699385"
      ]
     },
     "execution_count": 40,
     "metadata": {},
     "output_type": "execute_result"
    }
   ],
   "source": [
    "#check for skewness\n",
    "market_df['Subscription_Total'].skew()"
   ]
  },
  {
   "cell_type": "code",
   "execution_count": 41,
   "id": "3defcdd0-9f72-40aa-8796-6453c4ad8902",
   "metadata": {},
   "outputs": [
    {
     "data": {
      "text/plain": [
       "Issue_Size              1.224620\n",
       "Subscription_QIB        1.262734\n",
       "Subscription_HNI        1.181636\n",
       "Subscription_RII        1.129171\n",
       "Subscription_Total      1.293880\n",
       "Issue_Price             1.696881\n",
       "Listing_Gains_Profit   -0.183438\n",
       "dtype: float64"
      ]
     },
     "execution_count": 41,
     "metadata": {},
     "output_type": "execute_result"
    }
   ],
   "source": [
    "# Skweness after treating outliers in the dataset\n",
    "market_df.skew()"
   ]
  },
  {
   "cell_type": "markdown",
   "id": "ac62de25-4a6a-4788-ba6b-efce6501b41b",
   "metadata": {},
   "source": [
    "#### Setting the Target and Predictor Variables"
   ]
  },
  {
   "cell_type": "code",
   "execution_count": 42,
   "id": "a6346778-7e9f-4604-aacf-d0135755d2be",
   "metadata": {},
   "outputs": [
    {
     "name": "stdout",
     "output_type": "stream",
     "text": [
      "_________PREDICTOR VARIABLES_________\n"
     ]
    },
    {
     "ename": "NameError",
     "evalue": "name 'predictor_variable' is not defined",
     "output_type": "error",
     "traceback": [
      "\u001b[1;31m---------------------------------------------------------------------------\u001b[0m",
      "\u001b[1;31mNameError\u001b[0m                                 Traceback (most recent call last)",
      "Cell \u001b[1;32mIn[42], line 6\u001b[0m\n\u001b[0;32m      3\u001b[0m predictors \u001b[38;5;241m=\u001b[39m \u001b[38;5;28mlist\u001b[39m(\u001b[38;5;28mset\u001b[39m(\u001b[38;5;28mlist\u001b[39m(market_df\u001b[38;5;241m.\u001b[39mcolumns)) \u001b[38;5;241m-\u001b[39m \u001b[38;5;28mset\u001b[39m(market_df[\u001b[38;5;124m\"\u001b[39m\u001b[38;5;124mListing_Gains_Profit\u001b[39m\u001b[38;5;124m\"\u001b[39m]))\n\u001b[0;32m      5\u001b[0m \u001b[38;5;28mprint\u001b[39m(\u001b[38;5;124m\"\u001b[39m\u001b[38;5;124m_________PREDICTOR VARIABLES_________\u001b[39m\u001b[38;5;124m\"\u001b[39m)\n\u001b[1;32m----> 6\u001b[0m \u001b[38;5;28mprint\u001b[39m(\u001b[43mpredictor_variable\u001b[49m)\n\u001b[0;32m      7\u001b[0m \u001b[38;5;28mprint\u001b[39m(\u001b[38;5;124m\"\u001b[39m\u001b[38;5;124m_________TARGET VARIABLE_________\u001b[39m\u001b[38;5;124m\"\u001b[39m)\n\u001b[0;32m      8\u001b[0m \u001b[38;5;28mprint\u001b[39m(target_variable)\n",
      "\u001b[1;31mNameError\u001b[0m: name 'predictor_variable' is not defined"
     ]
    }
   ],
   "source": [
    "#Create target and predictor variables\n",
    "target_variable = [\"Listing_Gains_Profit\"]\n",
    "predictors = list(set(list(market_df.columns)) - set(market_df[\"Listing_Gains_Profit\"]))\n",
    "\n",
    "print(\"_________PREDICTOR VARIABLES_________\")\n",
    "print(predictor_variable)\n",
    "print(\"_________TARGET VARIABLE_________\")\n",
    "print(target_variable)"
   ]
  },
  {
   "cell_type": "code",
   "execution_count": null,
   "id": "457564e9-2f84-41b2-92da-8248af8875dc",
   "metadata": {},
   "outputs": [],
   "source": [
    "#normalize the predictor variable\n",
    "market_df[predictor_variable] = market_df[predictor_variable]/market_df[predictor_variable].max()\n",
    "market_df.describe()"
   ]
  },
  {
   "cell_type": "markdown",
   "id": "a77103a7-8baf-459c-8195-b18b15b46380",
   "metadata": {},
   "source": [
    "In tn the above few steps, I have created an object of the dependent variable called target_variable and also a list of all the features, excluding the target variable Listing_Gains_Profit. \n",
    "\n",
    "Ealier in the analysis, during data exploration, distribution of the variables differed significantly. This could influence the modeling process, so to prevent this, normalization by scaling the predictors was done. exploring the normalize value, it is seen that the normalized values of the predictors lie between 0 and 1."
   ]
  },
  {
   "cell_type": "markdown",
   "id": "3ac9dffc-8c05-45a2-9316-c787aa98c908",
   "metadata": {},
   "source": [
    "#### Creating the Holdout Validation Approach"
   ]
  },
  {
   "cell_type": "code",
   "execution_count": 47,
   "id": "03ae7650-027d-48ea-bb30-b74dd6556186",
   "metadata": {},
   "outputs": [
    {
     "name": "stdout",
     "output_type": "stream",
     "text": [
      "(223, 7)\n",
      "(96, 7)\n"
     ]
    }
   ],
   "source": [
    "X = market_df[predictors].values\n",
    "y = market_df[target_variable].values\n",
    "\n",
    "X_train, X_test, y_train, y_test = train_test_split(X, y, test_size=0.30, random_state=100)\n",
    "print(X_train.shape); print(X_test.shape)"
   ]
  },
  {
   "cell_type": "markdown",
   "id": "fd3fefc7-23b0-4a6f-90cd-593d749517cd",
   "metadata": {},
   "source": [
    "hold out validation approach was usedto model evaluation. In this approach, I divided the data in the 70:30 ratio, where I will use 70% of the data for training the model, while the other 30% of the data to test the model. "
   ]
  },
  {
   "cell_type": "markdown",
   "id": "8cfea42f-a939-45e3-b827-ad40788105e6",
   "metadata": {},
   "source": [
    "#### Define the Deep Learning Classification Model"
   ]
  },
  {
   "cell_type": "code",
   "execution_count": 48,
   "id": "3c59ba86-c0ff-486c-b40b-bd2e6a01cb70",
   "metadata": {},
   "outputs": [],
   "source": [
    "# defining the model used\n",
    "tf.random.set_seed(100)\n",
    "model = tf.keras.Sequential()\n",
    "model.add(tf.keras.layers.Dense(32, input_shape = (X_train.shape[1],), activation = 'relu'))\n",
    "model.add(tf.keras.layers.Dense(16, activation= 'relu'))\n",
    "model.add(tf.keras.layers.Dense(8, activation= 'relu'))\n",
    "model.add(tf.keras.layers.Dense(4, activation= 'relu'))\n",
    "model.add(tf.keras.layers.Dense(1, activation='sigmoid'))    "
   ]
  },
  {
   "cell_type": "markdown",
   "id": "8237989e-6583-4e6b-bb47-9220c7ebb942",
   "metadata": {},
   "source": [
    "In this step, above I have defined the model by instantiating the sequential model class in TensorFlow's Keras. \n",
    "\n",
    "The model architecture is comprised of four hidden layers with `relu` as the activation function. \n",
    "\n",
    "The output layer uses a `sigmoid` activation function, which is a good choice for a binary classification model."
   ]
  },
  {
   "cell_type": "markdown",
   "id": "5b65cbcf-2f00-473b-803d-a1761c92d993",
   "metadata": {},
   "source": [
    "#### Compile and Train the Model"
   ]
  },
  {
   "cell_type": "code",
   "execution_count": 49,
   "id": "6637ac51-48f2-49b8-89fb-c6386807aa74",
   "metadata": {},
   "outputs": [],
   "source": [
    "model.compile(optimizer=tf.keras.optimizers.Adam(0.001),\n",
    "              loss=tf.keras.losses.BinaryCrossentropy(),\n",
    "              metrics=['accuracy'])"
   ]
  },
  {
   "cell_type": "code",
   "execution_count": 50,
   "id": "157cb813-e219-4cb5-9d19-6d766e17bdbc",
   "metadata": {},
   "outputs": [
    {
     "name": "stdout",
     "output_type": "stream",
     "text": [
      "Model: \"sequential_1\"\n",
      "_________________________________________________________________\n",
      " Layer (type)                Output Shape              Param #   \n",
      "=================================================================\n",
      " dense (Dense)               (None, 32)                256       \n",
      "                                                                 \n",
      " dense_1 (Dense)             (None, 16)                528       \n",
      "                                                                 \n",
      " dense_2 (Dense)             (None, 8)                 136       \n",
      "                                                                 \n",
      " dense_3 (Dense)             (None, 4)                 36        \n",
      "                                                                 \n",
      " dense_4 (Dense)             (None, 1)                 5         \n",
      "                                                                 \n",
      "=================================================================\n",
      "Total params: 961\n",
      "Trainable params: 961\n",
      "Non-trainable params: 0\n",
      "_________________________________________________________________\n",
      "None\n"
     ]
    }
   ],
   "source": [
    "print(model.summary())"
   ]
  },
  {
   "cell_type": "code",
   "execution_count": 52,
   "id": "d6e6941c-ff56-42aa-9551-d5c71f345973",
   "metadata": {},
   "outputs": [
    {
     "name": "stdout",
     "output_type": "stream",
     "text": [
      "Epoch 1/250\n",
      "7/7 [==============================] - 0s 5ms/step - loss: 0.4697 - accuracy: 0.7848\n",
      "Epoch 2/250\n",
      "7/7 [==============================] - 0s 7ms/step - loss: 0.4709 - accuracy: 0.8027\n",
      "Epoch 3/250\n",
      "7/7 [==============================] - 0s 5ms/step - loss: 0.4682 - accuracy: 0.8341\n",
      "Epoch 4/250\n",
      "7/7 [==============================] - 0s 6ms/step - loss: 0.4591 - accuracy: 0.8206\n",
      "Epoch 5/250\n",
      "7/7 [==============================] - 0s 6ms/step - loss: 0.4983 - accuracy: 0.8027\n",
      "Epoch 6/250\n",
      "7/7 [==============================] - 0s 6ms/step - loss: 0.5335 - accuracy: 0.7444\n",
      "Epoch 7/250\n",
      "7/7 [==============================] - 0s 6ms/step - loss: 0.4782 - accuracy: 0.7892\n",
      "Epoch 8/250\n",
      "7/7 [==============================] - 0s 6ms/step - loss: 0.4656 - accuracy: 0.8206\n",
      "Epoch 9/250\n",
      "7/7 [==============================] - 0s 6ms/step - loss: 0.4533 - accuracy: 0.8565\n",
      "Epoch 10/250\n",
      "7/7 [==============================] - 0s 5ms/step - loss: 0.4751 - accuracy: 0.8117\n",
      "Epoch 11/250\n",
      "7/7 [==============================] - 0s 6ms/step - loss: 0.4771 - accuracy: 0.8027\n",
      "Epoch 12/250\n",
      "7/7 [==============================] - 0s 6ms/step - loss: 0.5243 - accuracy: 0.7534\n",
      "Epoch 13/250\n",
      "7/7 [==============================] - 0s 5ms/step - loss: 0.4740 - accuracy: 0.8072\n",
      "Epoch 14/250\n",
      "7/7 [==============================] - 0s 6ms/step - loss: 0.4846 - accuracy: 0.7848\n",
      "Epoch 15/250\n",
      "7/7 [==============================] - 0s 6ms/step - loss: 0.4653 - accuracy: 0.7937\n",
      "Epoch 16/250\n",
      "7/7 [==============================] - 0s 7ms/step - loss: 0.4512 - accuracy: 0.8520\n",
      "Epoch 17/250\n",
      "7/7 [==============================] - 0s 6ms/step - loss: 0.4721 - accuracy: 0.7803\n",
      "Epoch 18/250\n",
      "7/7 [==============================] - 0s 6ms/step - loss: 0.4791 - accuracy: 0.8251\n",
      "Epoch 19/250\n",
      "7/7 [==============================] - 0s 6ms/step - loss: 0.4586 - accuracy: 0.8296\n",
      "Epoch 20/250\n",
      "7/7 [==============================] - 0s 7ms/step - loss: 0.4649 - accuracy: 0.8206\n",
      "Epoch 21/250\n",
      "7/7 [==============================] - 0s 5ms/step - loss: 0.5106 - accuracy: 0.7713\n",
      "Epoch 22/250\n",
      "7/7 [==============================] - 0s 6ms/step - loss: 0.5354 - accuracy: 0.7444\n",
      "Epoch 23/250\n",
      "7/7 [==============================] - 0s 7ms/step - loss: 0.4924 - accuracy: 0.7892\n",
      "Epoch 24/250\n",
      "7/7 [==============================] - 0s 6ms/step - loss: 0.4546 - accuracy: 0.8072\n",
      "Epoch 25/250\n",
      "7/7 [==============================] - 0s 7ms/step - loss: 0.4377 - accuracy: 0.8700\n",
      "Epoch 26/250\n",
      "7/7 [==============================] - 0s 5ms/step - loss: 0.4270 - accuracy: 0.8610\n",
      "Epoch 27/250\n",
      "7/7 [==============================] - 0s 7ms/step - loss: 0.4404 - accuracy: 0.8520\n",
      "Epoch 28/250\n",
      "7/7 [==============================] - 0s 6ms/step - loss: 0.5673 - accuracy: 0.8117\n",
      "Epoch 29/250\n",
      "7/7 [==============================] - 0s 6ms/step - loss: 0.4642 - accuracy: 0.8117\n",
      "Epoch 30/250\n",
      "7/7 [==============================] - 0s 6ms/step - loss: 0.4680 - accuracy: 0.8161\n",
      "Epoch 31/250\n",
      "7/7 [==============================] - 0s 5ms/step - loss: 0.4616 - accuracy: 0.8027\n",
      "Epoch 32/250\n",
      "7/7 [==============================] - 0s 5ms/step - loss: 0.4469 - accuracy: 0.8341\n",
      "Epoch 33/250\n",
      "7/7 [==============================] - 0s 5ms/step - loss: 0.4621 - accuracy: 0.7848\n",
      "Epoch 34/250\n",
      "7/7 [==============================] - 0s 6ms/step - loss: 0.4400 - accuracy: 0.8296\n",
      "Epoch 35/250\n",
      "7/7 [==============================] - 0s 5ms/step - loss: 0.4606 - accuracy: 0.8117\n",
      "Epoch 36/250\n",
      "7/7 [==============================] - 0s 5ms/step - loss: 0.4491 - accuracy: 0.7892\n",
      "Epoch 37/250\n",
      "7/7 [==============================] - 0s 6ms/step - loss: 0.4522 - accuracy: 0.8206\n",
      "Epoch 38/250\n",
      "7/7 [==============================] - 0s 5ms/step - loss: 0.4535 - accuracy: 0.8161\n",
      "Epoch 39/250\n",
      "7/7 [==============================] - 0s 6ms/step - loss: 0.4343 - accuracy: 0.8296\n",
      "Epoch 40/250\n",
      "7/7 [==============================] - 0s 5ms/step - loss: 0.4422 - accuracy: 0.8296\n",
      "Epoch 41/250\n",
      "7/7 [==============================] - 0s 6ms/step - loss: 0.4272 - accuracy: 0.8386\n",
      "Epoch 42/250\n",
      "7/7 [==============================] - 0s 6ms/step - loss: 0.4086 - accuracy: 0.8655\n",
      "Epoch 43/250\n",
      "7/7 [==============================] - 0s 5ms/step - loss: 0.4239 - accuracy: 0.8520\n",
      "Epoch 44/250\n",
      "7/7 [==============================] - 0s 6ms/step - loss: 0.4948 - accuracy: 0.7713\n",
      "Epoch 45/250\n",
      "7/7 [==============================] - 0s 5ms/step - loss: 0.4211 - accuracy: 0.8520\n",
      "Epoch 46/250\n",
      "7/7 [==============================] - 0s 6ms/step - loss: 0.4071 - accuracy: 0.8475\n",
      "Epoch 47/250\n",
      "7/7 [==============================] - 0s 6ms/step - loss: 0.4088 - accuracy: 0.8924\n",
      "Epoch 48/250\n",
      "7/7 [==============================] - 0s 5ms/step - loss: 0.4128 - accuracy: 0.8700\n",
      "Epoch 49/250\n",
      "7/7 [==============================] - 0s 5ms/step - loss: 0.4172 - accuracy: 0.8520\n",
      "Epoch 50/250\n",
      "7/7 [==============================] - 0s 5ms/step - loss: 0.4106 - accuracy: 0.8475\n",
      "Epoch 51/250\n",
      "7/7 [==============================] - 0s 5ms/step - loss: 0.4104 - accuracy: 0.8475\n",
      "Epoch 52/250\n",
      "7/7 [==============================] - 0s 5ms/step - loss: 0.4110 - accuracy: 0.8655\n",
      "Epoch 53/250\n",
      "7/7 [==============================] - 0s 6ms/step - loss: 0.3871 - accuracy: 0.8700\n",
      "Epoch 54/250\n",
      "7/7 [==============================] - 0s 5ms/step - loss: 0.3956 - accuracy: 0.8655\n",
      "Epoch 55/250\n",
      "7/7 [==============================] - 0s 11ms/step - loss: 0.4385 - accuracy: 0.8341\n",
      "Epoch 56/250\n",
      "7/7 [==============================] - 0s 11ms/step - loss: 0.5425 - accuracy: 0.8072\n",
      "Epoch 57/250\n",
      "7/7 [==============================] - 0s 7ms/step - loss: 0.4796 - accuracy: 0.8161\n",
      "Epoch 58/250\n",
      "7/7 [==============================] - 0s 6ms/step - loss: 0.4604 - accuracy: 0.8072\n",
      "Epoch 59/250\n",
      "7/7 [==============================] - 0s 5ms/step - loss: 0.4652 - accuracy: 0.8027\n",
      "Epoch 60/250\n",
      "7/7 [==============================] - 0s 6ms/step - loss: 0.4557 - accuracy: 0.8206\n",
      "Epoch 61/250\n",
      "7/7 [==============================] - 0s 6ms/step - loss: 0.4460 - accuracy: 0.8565\n",
      "Epoch 62/250\n",
      "7/7 [==============================] - 0s 12ms/step - loss: 0.4307 - accuracy: 0.8430\n",
      "Epoch 63/250\n",
      "7/7 [==============================] - 0s 5ms/step - loss: 0.4112 - accuracy: 0.8386\n",
      "Epoch 64/250\n",
      "7/7 [==============================] - 0s 5ms/step - loss: 0.4293 - accuracy: 0.8206\n",
      "Epoch 65/250\n",
      "7/7 [==============================] - 0s 5ms/step - loss: 0.3936 - accuracy: 0.8744\n",
      "Epoch 66/250\n",
      "7/7 [==============================] - 0s 4ms/step - loss: 0.4017 - accuracy: 0.8610\n",
      "Epoch 67/250\n",
      "7/7 [==============================] - 0s 5ms/step - loss: 0.3782 - accuracy: 0.9058\n",
      "Epoch 68/250\n",
      "7/7 [==============================] - 0s 5ms/step - loss: 0.3652 - accuracy: 0.9013\n",
      "Epoch 69/250\n",
      "7/7 [==============================] - 0s 5ms/step - loss: 0.3560 - accuracy: 0.9058\n",
      "Epoch 70/250\n",
      "7/7 [==============================] - 0s 5ms/step - loss: 0.3747 - accuracy: 0.9103\n",
      "Epoch 71/250\n",
      "7/7 [==============================] - 0s 5ms/step - loss: 0.3824 - accuracy: 0.8789\n",
      "Epoch 72/250\n",
      "7/7 [==============================] - 0s 4ms/step - loss: 0.3630 - accuracy: 0.8834\n",
      "Epoch 73/250\n",
      "7/7 [==============================] - 0s 5ms/step - loss: 0.4701 - accuracy: 0.8072\n",
      "Epoch 74/250\n",
      "7/7 [==============================] - 0s 5ms/step - loss: 0.5567 - accuracy: 0.7623\n",
      "Epoch 75/250\n",
      "7/7 [==============================] - 0s 4ms/step - loss: 0.4652 - accuracy: 0.7937\n",
      "Epoch 76/250\n",
      "7/7 [==============================] - 0s 5ms/step - loss: 0.4630 - accuracy: 0.8117\n",
      "Epoch 77/250\n",
      "7/7 [==============================] - 0s 5ms/step - loss: 0.4114 - accuracy: 0.8520\n",
      "Epoch 78/250\n",
      "7/7 [==============================] - 0s 4ms/step - loss: 0.4115 - accuracy: 0.8879\n",
      "Epoch 79/250\n",
      "7/7 [==============================] - 0s 5ms/step - loss: 0.3853 - accuracy: 0.8744\n",
      "Epoch 80/250\n",
      "7/7 [==============================] - 0s 5ms/step - loss: 0.4180 - accuracy: 0.8117\n",
      "Epoch 81/250\n",
      "7/7 [==============================] - 0s 4ms/step - loss: 0.4142 - accuracy: 0.8296\n",
      "Epoch 82/250\n",
      "7/7 [==============================] - 0s 5ms/step - loss: 0.4256 - accuracy: 0.8341\n",
      "Epoch 83/250\n",
      "7/7 [==============================] - 0s 4ms/step - loss: 0.4559 - accuracy: 0.8341\n",
      "Epoch 84/250\n",
      "7/7 [==============================] - 0s 5ms/step - loss: 0.4222 - accuracy: 0.8296\n",
      "Epoch 85/250\n",
      "7/7 [==============================] - 0s 5ms/step - loss: 0.4112 - accuracy: 0.8430\n",
      "Epoch 86/250\n",
      "7/7 [==============================] - 0s 4ms/step - loss: 0.4193 - accuracy: 0.8565\n",
      "Epoch 87/250\n",
      "7/7 [==============================] - 0s 4ms/step - loss: 0.4321 - accuracy: 0.8251\n",
      "Epoch 88/250\n",
      "7/7 [==============================] - 0s 5ms/step - loss: 0.3937 - accuracy: 0.8700\n",
      "Epoch 89/250\n",
      "7/7 [==============================] - 0s 4ms/step - loss: 0.3932 - accuracy: 0.8744\n",
      "Epoch 90/250\n",
      "7/7 [==============================] - 0s 5ms/step - loss: 0.4094 - accuracy: 0.8430\n",
      "Epoch 91/250\n",
      "7/7 [==============================] - 0s 5ms/step - loss: 0.4293 - accuracy: 0.8386\n",
      "Epoch 92/250\n",
      "7/7 [==============================] - 0s 5ms/step - loss: 0.3755 - accuracy: 0.8744\n",
      "Epoch 93/250\n",
      "7/7 [==============================] - 0s 4ms/step - loss: 0.3482 - accuracy: 0.8834\n",
      "Epoch 94/250\n",
      "7/7 [==============================] - 0s 5ms/step - loss: 0.3477 - accuracy: 0.8924\n",
      "Epoch 95/250\n",
      "7/7 [==============================] - 0s 5ms/step - loss: 0.3406 - accuracy: 0.9013\n",
      "Epoch 96/250\n",
      "7/7 [==============================] - 0s 4ms/step - loss: 0.3264 - accuracy: 0.8834\n",
      "Epoch 97/250\n",
      "7/7 [==============================] - 0s 5ms/step - loss: 0.3177 - accuracy: 0.9103\n",
      "Epoch 98/250\n",
      "7/7 [==============================] - 0s 4ms/step - loss: 0.3259 - accuracy: 0.9148\n",
      "Epoch 99/250\n",
      "7/7 [==============================] - 0s 5ms/step - loss: 0.3374 - accuracy: 0.8879\n",
      "Epoch 100/250\n",
      "7/7 [==============================] - 0s 5ms/step - loss: 0.3118 - accuracy: 0.9103\n",
      "Epoch 101/250\n",
      "7/7 [==============================] - 0s 5ms/step - loss: 0.4150 - accuracy: 0.8341\n",
      "Epoch 102/250\n",
      "7/7 [==============================] - 0s 4ms/step - loss: 0.4151 - accuracy: 0.8475\n",
      "Epoch 103/250\n",
      "7/7 [==============================] - 0s 5ms/step - loss: 0.4099 - accuracy: 0.8161\n",
      "Epoch 104/250\n",
      "7/7 [==============================] - 0s 4ms/step - loss: 0.3981 - accuracy: 0.8386\n",
      "Epoch 105/250\n",
      "7/7 [==============================] - 0s 4ms/step - loss: 0.3799 - accuracy: 0.8430\n",
      "Epoch 106/250\n",
      "7/7 [==============================] - 0s 5ms/step - loss: 0.3493 - accuracy: 0.8879\n",
      "Epoch 107/250\n",
      "7/7 [==============================] - 0s 5ms/step - loss: 0.3694 - accuracy: 0.8924\n",
      "Epoch 108/250\n",
      "7/7 [==============================] - 0s 4ms/step - loss: 0.3776 - accuracy: 0.8655\n",
      "Epoch 109/250\n",
      "7/7 [==============================] - 0s 4ms/step - loss: 0.3523 - accuracy: 0.8520\n",
      "Epoch 110/250\n",
      "7/7 [==============================] - 0s 4ms/step - loss: 0.3287 - accuracy: 0.8879\n",
      "Epoch 111/250\n",
      "7/7 [==============================] - 0s 4ms/step - loss: 0.3089 - accuracy: 0.9058\n",
      "Epoch 112/250\n",
      "7/7 [==============================] - 0s 4ms/step - loss: 0.3667 - accuracy: 0.8834\n",
      "Epoch 113/250\n",
      "7/7 [==============================] - 0s 5ms/step - loss: 0.3284 - accuracy: 0.8969\n",
      "Epoch 114/250\n",
      "7/7 [==============================] - 0s 4ms/step - loss: 0.4107 - accuracy: 0.8565\n",
      "Epoch 115/250\n",
      "7/7 [==============================] - 0s 4ms/step - loss: 0.3002 - accuracy: 0.9148\n",
      "Epoch 116/250\n",
      "7/7 [==============================] - 0s 5ms/step - loss: 0.3599 - accuracy: 0.8700\n",
      "Epoch 117/250\n",
      "7/7 [==============================] - 0s 5ms/step - loss: 0.2976 - accuracy: 0.9193\n",
      "Epoch 118/250\n",
      "7/7 [==============================] - 0s 4ms/step - loss: 0.2855 - accuracy: 0.9148\n",
      "Epoch 119/250\n",
      "7/7 [==============================] - 0s 5ms/step - loss: 0.2820 - accuracy: 0.9148\n",
      "Epoch 120/250\n",
      "7/7 [==============================] - 0s 4ms/step - loss: 0.2864 - accuracy: 0.9283\n",
      "Epoch 121/250\n",
      "7/7 [==============================] - 0s 4ms/step - loss: 0.2715 - accuracy: 0.9148\n",
      "Epoch 122/250\n",
      "7/7 [==============================] - 0s 5ms/step - loss: 0.3984 - accuracy: 0.8475\n",
      "Epoch 123/250\n",
      "7/7 [==============================] - 0s 4ms/step - loss: 0.4150 - accuracy: 0.8475\n",
      "Epoch 124/250\n",
      "7/7 [==============================] - 0s 4ms/step - loss: 0.3465 - accuracy: 0.8789\n",
      "Epoch 125/250\n",
      "7/7 [==============================] - 0s 5ms/step - loss: 0.2906 - accuracy: 0.8834\n",
      "Epoch 126/250\n",
      "7/7 [==============================] - 0s 4ms/step - loss: 0.2745 - accuracy: 0.9013\n",
      "Epoch 127/250\n",
      "7/7 [==============================] - 0s 4ms/step - loss: 0.3624 - accuracy: 0.8700\n",
      "Epoch 128/250\n",
      "7/7 [==============================] - 0s 5ms/step - loss: 0.4299 - accuracy: 0.8072\n",
      "Epoch 129/250\n",
      "7/7 [==============================] - 0s 5ms/step - loss: 0.4042 - accuracy: 0.8520\n",
      "Epoch 130/250\n",
      "7/7 [==============================] - 0s 4ms/step - loss: 0.3610 - accuracy: 0.8565\n",
      "Epoch 131/250\n",
      "7/7 [==============================] - 0s 10ms/step - loss: 0.3114 - accuracy: 0.8834\n",
      "Epoch 132/250\n",
      "7/7 [==============================] - 0s 8ms/step - loss: 0.2831 - accuracy: 0.9103\n",
      "Epoch 133/250\n",
      "7/7 [==============================] - 0s 10ms/step - loss: 0.2737 - accuracy: 0.9372\n",
      "Epoch 134/250\n",
      "7/7 [==============================] - 0s 9ms/step - loss: 0.3015 - accuracy: 0.9193\n",
      "Epoch 135/250\n",
      "7/7 [==============================] - 0s 10ms/step - loss: 0.3898 - accuracy: 0.8789\n",
      "Epoch 136/250\n",
      "7/7 [==============================] - 0s 7ms/step - loss: 0.3066 - accuracy: 0.9058\n",
      "Epoch 137/250\n",
      "7/7 [==============================] - 0s 7ms/step - loss: 0.3457 - accuracy: 0.8789\n",
      "Epoch 138/250\n",
      "7/7 [==============================] - 0s 8ms/step - loss: 0.4338 - accuracy: 0.8206\n",
      "Epoch 139/250\n",
      "7/7 [==============================] - 0s 5ms/step - loss: 0.3202 - accuracy: 0.8879\n",
      "Epoch 140/250\n",
      "7/7 [==============================] - 0s 14ms/step - loss: 0.3088 - accuracy: 0.9013\n",
      "Epoch 141/250\n",
      "7/7 [==============================] - 0s 5ms/step - loss: 0.2996 - accuracy: 0.9193\n",
      "Epoch 142/250\n",
      "7/7 [==============================] - 0s 4ms/step - loss: 0.2662 - accuracy: 0.9283\n",
      "Epoch 143/250\n",
      "7/7 [==============================] - 0s 5ms/step - loss: 0.2676 - accuracy: 0.9462\n",
      "Epoch 144/250\n",
      "7/7 [==============================] - 0s 4ms/step - loss: 0.2555 - accuracy: 0.9327\n",
      "Epoch 145/250\n",
      "7/7 [==============================] - 0s 4ms/step - loss: 0.2598 - accuracy: 0.9372\n",
      "Epoch 146/250\n",
      "7/7 [==============================] - 0s 5ms/step - loss: 0.2376 - accuracy: 0.9417\n",
      "Epoch 147/250\n",
      "7/7 [==============================] - 0s 4ms/step - loss: 0.2423 - accuracy: 0.9372\n",
      "Epoch 148/250\n",
      "7/7 [==============================] - 0s 5ms/step - loss: 0.2588 - accuracy: 0.9462\n",
      "Epoch 149/250\n",
      "7/7 [==============================] - 0s 5ms/step - loss: 0.2855 - accuracy: 0.9103\n",
      "Epoch 150/250\n",
      "7/7 [==============================] - 0s 4ms/step - loss: 0.3040 - accuracy: 0.9193\n",
      "Epoch 151/250\n",
      "7/7 [==============================] - 0s 5ms/step - loss: 0.2169 - accuracy: 0.9596\n",
      "Epoch 152/250\n",
      "7/7 [==============================] - 0s 5ms/step - loss: 0.2133 - accuracy: 0.9641\n",
      "Epoch 153/250\n",
      "7/7 [==============================] - 0s 5ms/step - loss: 0.1982 - accuracy: 0.9596\n",
      "Epoch 154/250\n",
      "7/7 [==============================] - 0s 5ms/step - loss: 0.1988 - accuracy: 0.9641\n",
      "Epoch 155/250\n",
      "7/7 [==============================] - 0s 4ms/step - loss: 0.2280 - accuracy: 0.9462\n",
      "Epoch 156/250\n",
      "7/7 [==============================] - 0s 5ms/step - loss: 0.2935 - accuracy: 0.9058\n",
      "Epoch 157/250\n",
      "7/7 [==============================] - 0s 4ms/step - loss: 0.2401 - accuracy: 0.9462\n",
      "Epoch 158/250\n",
      "7/7 [==============================] - 0s 5ms/step - loss: 0.2299 - accuracy: 0.9327\n",
      "Epoch 159/250\n",
      "7/7 [==============================] - 0s 4ms/step - loss: 0.2016 - accuracy: 0.9596\n",
      "Epoch 160/250\n",
      "7/7 [==============================] - 0s 4ms/step - loss: 0.2082 - accuracy: 0.9641\n",
      "Epoch 161/250\n",
      "7/7 [==============================] - 0s 4ms/step - loss: 0.2742 - accuracy: 0.9148\n",
      "Epoch 162/250\n",
      "7/7 [==============================] - 0s 4ms/step - loss: 0.3213 - accuracy: 0.8879\n",
      "Epoch 163/250\n",
      "7/7 [==============================] - 0s 5ms/step - loss: 0.3349 - accuracy: 0.8834\n",
      "Epoch 164/250\n",
      "7/7 [==============================] - 0s 4ms/step - loss: 0.2737 - accuracy: 0.9103\n",
      "Epoch 165/250\n",
      "7/7 [==============================] - 0s 4ms/step - loss: 0.3447 - accuracy: 0.8969\n",
      "Epoch 166/250\n",
      "7/7 [==============================] - 0s 5ms/step - loss: 0.2598 - accuracy: 0.9103\n",
      "Epoch 167/250\n",
      "7/7 [==============================] - 0s 6ms/step - loss: 0.2592 - accuracy: 0.9238\n",
      "Epoch 168/250\n",
      "7/7 [==============================] - 0s 7ms/step - loss: 0.2451 - accuracy: 0.9327\n",
      "Epoch 169/250\n",
      "7/7 [==============================] - 0s 5ms/step - loss: 0.1916 - accuracy: 0.9596\n",
      "Epoch 170/250\n",
      "7/7 [==============================] - 0s 6ms/step - loss: 0.1656 - accuracy: 0.9641\n",
      "Epoch 171/250\n",
      "7/7 [==============================] - 0s 8ms/step - loss: 0.1673 - accuracy: 0.9552\n",
      "Epoch 172/250\n",
      "7/7 [==============================] - 0s 6ms/step - loss: 0.1644 - accuracy: 0.9507\n",
      "Epoch 173/250\n",
      "7/7 [==============================] - 0s 6ms/step - loss: 0.1755 - accuracy: 0.9641\n",
      "Epoch 174/250\n",
      "7/7 [==============================] - 0s 6ms/step - loss: 0.3018 - accuracy: 0.8834\n",
      "Epoch 175/250\n",
      "7/7 [==============================] - 0s 6ms/step - loss: 0.2511 - accuracy: 0.9058\n",
      "Epoch 176/250\n",
      "7/7 [==============================] - 0s 7ms/step - loss: 0.2715 - accuracy: 0.9058\n",
      "Epoch 177/250\n",
      "7/7 [==============================] - 0s 5ms/step - loss: 0.2103 - accuracy: 0.9507\n",
      "Epoch 178/250\n",
      "7/7 [==============================] - 0s 4ms/step - loss: 0.1920 - accuracy: 0.9596\n",
      "Epoch 179/250\n",
      "7/7 [==============================] - 0s 6ms/step - loss: 0.2023 - accuracy: 0.9596\n",
      "Epoch 180/250\n",
      "7/7 [==============================] - 0s 5ms/step - loss: 0.1724 - accuracy: 0.9641\n",
      "Epoch 181/250\n",
      "7/7 [==============================] - 0s 12ms/step - loss: 0.1947 - accuracy: 0.9552\n",
      "Epoch 182/250\n",
      "7/7 [==============================] - 0s 6ms/step - loss: 0.2273 - accuracy: 0.9238\n",
      "Epoch 183/250\n",
      "7/7 [==============================] - 0s 5ms/step - loss: 0.2538 - accuracy: 0.8969\n",
      "Epoch 184/250\n",
      "7/7 [==============================] - 0s 6ms/step - loss: 0.2520 - accuracy: 0.9193\n",
      "Epoch 185/250\n",
      "7/7 [==============================] - 0s 5ms/step - loss: 0.2653 - accuracy: 0.9013\n",
      "Epoch 186/250\n",
      "7/7 [==============================] - 0s 5ms/step - loss: 0.2777 - accuracy: 0.9238\n",
      "Epoch 187/250\n",
      "7/7 [==============================] - 0s 5ms/step - loss: 0.1976 - accuracy: 0.9283\n",
      "Epoch 188/250\n",
      "7/7 [==============================] - 0s 12ms/step - loss: 0.1706 - accuracy: 0.9641\n",
      "Epoch 189/250\n",
      "7/7 [==============================] - 0s 4ms/step - loss: 0.1739 - accuracy: 0.9686\n",
      "Epoch 190/250\n",
      "7/7 [==============================] - 0s 4ms/step - loss: 0.2051 - accuracy: 0.9327\n",
      "Epoch 191/250\n",
      "7/7 [==============================] - 0s 4ms/step - loss: 0.1485 - accuracy: 0.9731\n",
      "Epoch 192/250\n",
      "7/7 [==============================] - 0s 4ms/step - loss: 0.2396 - accuracy: 0.9327\n",
      "Epoch 193/250\n",
      "7/7 [==============================] - 0s 5ms/step - loss: 0.3090 - accuracy: 0.8879\n",
      "Epoch 194/250\n",
      "7/7 [==============================] - 0s 5ms/step - loss: 0.1869 - accuracy: 0.9507\n",
      "Epoch 195/250\n",
      "7/7 [==============================] - 0s 4ms/step - loss: 0.3686 - accuracy: 0.9013\n",
      "Epoch 196/250\n",
      "7/7 [==============================] - 0s 5ms/step - loss: 0.2926 - accuracy: 0.9238\n",
      "Epoch 197/250\n",
      "7/7 [==============================] - 0s 5ms/step - loss: 0.2204 - accuracy: 0.9372\n",
      "Epoch 198/250\n",
      "7/7 [==============================] - 0s 4ms/step - loss: 0.1879 - accuracy: 0.9552\n",
      "Epoch 199/250\n",
      "7/7 [==============================] - 0s 4ms/step - loss: 0.4161 - accuracy: 0.8789\n",
      "Epoch 200/250\n",
      "7/7 [==============================] - 0s 4ms/step - loss: 0.4317 - accuracy: 0.8655\n",
      "Epoch 201/250\n",
      "7/7 [==============================] - 0s 4ms/step - loss: 0.2994 - accuracy: 0.9013\n",
      "Epoch 202/250\n",
      "7/7 [==============================] - 0s 4ms/step - loss: 0.1831 - accuracy: 0.9462\n",
      "Epoch 203/250\n",
      "7/7 [==============================] - 0s 15ms/step - loss: 0.1467 - accuracy: 0.9731\n",
      "Epoch 204/250\n",
      "7/7 [==============================] - 0s 9ms/step - loss: 0.1428 - accuracy: 0.9865\n",
      "Epoch 205/250\n",
      "7/7 [==============================] - 0s 5ms/step - loss: 0.1279 - accuracy: 0.9821\n",
      "Epoch 206/250\n",
      "7/7 [==============================] - 0s 5ms/step - loss: 0.1200 - accuracy: 0.9821\n",
      "Epoch 207/250\n",
      "7/7 [==============================] - 0s 4ms/step - loss: 0.1618 - accuracy: 0.9552\n",
      "Epoch 208/250\n",
      "7/7 [==============================] - 0s 5ms/step - loss: 0.1828 - accuracy: 0.9507\n",
      "Epoch 209/250\n",
      "7/7 [==============================] - 0s 4ms/step - loss: 0.1936 - accuracy: 0.9238\n",
      "Epoch 210/250\n",
      "7/7 [==============================] - 0s 4ms/step - loss: 0.1612 - accuracy: 0.9372\n",
      "Epoch 211/250\n",
      "7/7 [==============================] - 0s 4ms/step - loss: 0.1507 - accuracy: 0.9552\n",
      "Epoch 212/250\n",
      "7/7 [==============================] - 0s 4ms/step - loss: 0.1536 - accuracy: 0.9731\n",
      "Epoch 213/250\n",
      "7/7 [==============================] - 0s 4ms/step - loss: 0.1555 - accuracy: 0.9731\n",
      "Epoch 214/250\n",
      "7/7 [==============================] - 0s 4ms/step - loss: 0.1304 - accuracy: 0.9686\n",
      "Epoch 215/250\n",
      "7/7 [==============================] - 0s 5ms/step - loss: 0.1174 - accuracy: 0.9865\n",
      "Epoch 216/250\n",
      "7/7 [==============================] - 0s 4ms/step - loss: 0.1384 - accuracy: 0.9641\n",
      "Epoch 217/250\n",
      "7/7 [==============================] - 0s 4ms/step - loss: 0.1692 - accuracy: 0.9507\n",
      "Epoch 218/250\n",
      "7/7 [==============================] - 0s 5ms/step - loss: 0.1478 - accuracy: 0.9596\n",
      "Epoch 219/250\n",
      "7/7 [==============================] - 0s 4ms/step - loss: 0.2153 - accuracy: 0.9417\n",
      "Epoch 220/250\n",
      "7/7 [==============================] - 0s 12ms/step - loss: 0.2998 - accuracy: 0.9058\n",
      "Epoch 221/250\n",
      "7/7 [==============================] - 0s 8ms/step - loss: 0.2326 - accuracy: 0.9103\n",
      "Epoch 222/250\n",
      "7/7 [==============================] - 0s 4ms/step - loss: 0.1662 - accuracy: 0.9507\n",
      "Epoch 223/250\n",
      "7/7 [==============================] - 0s 5ms/step - loss: 0.1593 - accuracy: 0.9596\n",
      "Epoch 224/250\n",
      "7/7 [==============================] - 0s 4ms/step - loss: 0.1714 - accuracy: 0.9462\n",
      "Epoch 225/250\n",
      "7/7 [==============================] - 0s 5ms/step - loss: 0.1561 - accuracy: 0.9686\n",
      "Epoch 226/250\n",
      "7/7 [==============================] - 0s 5ms/step - loss: 0.1468 - accuracy: 0.9686\n",
      "Epoch 227/250\n",
      "7/7 [==============================] - 0s 5ms/step - loss: 0.1405 - accuracy: 0.9641\n",
      "Epoch 228/250\n",
      "7/7 [==============================] - 0s 13ms/step - loss: 0.1646 - accuracy: 0.9552\n",
      "Epoch 229/250\n",
      "7/7 [==============================] - 0s 8ms/step - loss: 0.1721 - accuracy: 0.9417\n",
      "Epoch 230/250\n",
      "7/7 [==============================] - 0s 8ms/step - loss: 0.1833 - accuracy: 0.9283\n",
      "Epoch 231/250\n",
      "7/7 [==============================] - 0s 7ms/step - loss: 0.1463 - accuracy: 0.9507\n",
      "Epoch 232/250\n",
      "7/7 [==============================] - 0s 9ms/step - loss: 0.1187 - accuracy: 0.9865\n",
      "Epoch 233/250\n",
      "7/7 [==============================] - 0s 7ms/step - loss: 0.1187 - accuracy: 0.9731\n",
      "Epoch 234/250\n",
      "7/7 [==============================] - 0s 8ms/step - loss: 0.0923 - accuracy: 0.9821\n",
      "Epoch 235/250\n",
      "7/7 [==============================] - 0s 10ms/step - loss: 0.0891 - accuracy: 0.9865\n",
      "Epoch 236/250\n",
      "7/7 [==============================] - 0s 6ms/step - loss: 0.1380 - accuracy: 0.9641\n",
      "Epoch 237/250\n",
      "7/7 [==============================] - 0s 4ms/step - loss: 0.3031 - accuracy: 0.8834\n",
      "Epoch 238/250\n",
      "7/7 [==============================] - 0s 5ms/step - loss: 0.2640 - accuracy: 0.9058\n",
      "Epoch 239/250\n",
      "7/7 [==============================] - 0s 5ms/step - loss: 0.1913 - accuracy: 0.9327\n",
      "Epoch 240/250\n",
      "7/7 [==============================] - 0s 8ms/step - loss: 0.1309 - accuracy: 0.9686\n",
      "Epoch 241/250\n",
      "7/7 [==============================] - 0s 11ms/step - loss: 0.1174 - accuracy: 0.9731\n",
      "Epoch 242/250\n",
      "7/7 [==============================] - 0s 6ms/step - loss: 0.1427 - accuracy: 0.9641\n",
      "Epoch 243/250\n",
      "7/7 [==============================] - 0s 4ms/step - loss: 0.1523 - accuracy: 0.9552\n",
      "Epoch 244/250\n",
      "7/7 [==============================] - 0s 5ms/step - loss: 0.1031 - accuracy: 0.9865\n",
      "Epoch 245/250\n",
      "7/7 [==============================] - 0s 4ms/step - loss: 0.0892 - accuracy: 0.9865\n",
      "Epoch 246/250\n",
      "7/7 [==============================] - 0s 5ms/step - loss: 0.0824 - accuracy: 0.9910\n",
      "Epoch 247/250\n",
      "7/7 [==============================] - 0s 5ms/step - loss: 0.0778 - accuracy: 0.9910\n",
      "Epoch 248/250\n",
      "7/7 [==============================] - 0s 4ms/step - loss: 0.1462 - accuracy: 0.9507\n",
      "Epoch 249/250\n",
      "7/7 [==============================] - 0s 4ms/step - loss: 0.1011 - accuracy: 0.9686\n",
      "Epoch 250/250\n",
      "7/7 [==============================] - 0s 5ms/step - loss: 0.1222 - accuracy: 0.9686\n"
     ]
    },
    {
     "data": {
      "text/plain": [
       "<keras.callbacks.History at 0x2279b34d5d0>"
      ]
     },
     "execution_count": 52,
     "metadata": {},
     "output_type": "execute_result"
    }
   ],
   "source": [
    "model.fit(X_train, y_train, epochs=250)"
   ]
  },
  {
   "cell_type": "markdown",
   "id": "113749bf-b38b-440c-b24e-0b4d19768daa",
   "metadata": {},
   "source": [
    "The model was compiled with an appropriate optimizer, a loss function, and an evaluation metric. After compiling the model, it was fitted on the training set, and the epoch count was set to 250. It is observed that the accuracy improved over the 250 epochs. "
   ]
  },
  {
   "cell_type": "markdown",
   "id": "eed1dbff-a551-4e57-b4cb-262cd510220c",
   "metadata": {},
   "source": [
    "#### Model Evaluation"
   ]
  },
  {
   "cell_type": "code",
   "execution_count": 53,
   "id": "81d60b2f-4a5c-456a-a4d6-a5236aead8cb",
   "metadata": {},
   "outputs": [
    {
     "name": "stdout",
     "output_type": "stream",
     "text": [
      "7/7 [==============================] - 0s 4ms/step - loss: 0.1113 - accuracy: 0.9776\n"
     ]
    },
    {
     "data": {
      "text/plain": [
       "[0.11127863824367523, 0.9775784611701965]"
      ]
     },
     "execution_count": 53,
     "metadata": {},
     "output_type": "execute_result"
    }
   ],
   "source": [
    "model.evaluate(X_train, y_train)"
   ]
  },
  {
   "cell_type": "code",
   "execution_count": 54,
   "id": "4faf25a5-6963-4835-959b-fc4eed10c07e",
   "metadata": {},
   "outputs": [
    {
     "name": "stdout",
     "output_type": "stream",
     "text": [
      "3/3 [==============================] - 0s 6ms/step - loss: 0.3166 - accuracy: 0.9062\n"
     ]
    },
    {
     "data": {
      "text/plain": [
       "[0.31662237644195557, 0.90625]"
      ]
     },
     "execution_count": 54,
     "metadata": {},
     "output_type": "execute_result"
    }
   ],
   "source": [
    "model.evaluate(X_test, y_test)"
   ]
  },
  {
   "cell_type": "markdown",
   "id": "41edacf9-94f4-4a9a-935f-d194615fec0f",
   "metadata": {},
   "source": [
    "The model evaluation output shows the performance of the model on both training and test data. The accuracy was approximately 98% on the training data and 91% on the test data. Ideally, the higher the accuracy value, the better the model is performing. It's noteworthy that the training and test set accuracies are close to each other, which shows that there is consistency and that the accuracy doesn't drop too much when we test the model on unseen data."
   ]
  },
  {
   "cell_type": "markdown",
   "id": "db80407a-d3a8-4083-be31-927e6c690f38",
   "metadata": {},
   "source": [
    "#### Conclusion\n",
    "\n",
    "In this project, I have built Deep Learning Classification models using the deep learning framework, Keras, in TensorFlow. I used a real-world IPO dataset and built a classifier algorithm to predict whether an IPO will list at profit or not.\n",
    "\n",
    "The accuracy was approximately 98% on the training data and 91% on the test data. The accuracy is consistent across the training and test datasets, which is a promising sign. "
   ]
  }
 ],
 "metadata": {
  "kernelspec": {
   "display_name": "Python 3 (ipykernel)",
   "language": "python",
   "name": "python3"
  },
  "language_info": {
   "codemirror_mode": {
    "name": "ipython",
    "version": 3
   },
   "file_extension": ".py",
   "mimetype": "text/x-python",
   "name": "python",
   "nbconvert_exporter": "python",
   "pygments_lexer": "ipython3",
   "version": "3.10.9"
  }
 },
 "nbformat": 4,
 "nbformat_minor": 5
}
